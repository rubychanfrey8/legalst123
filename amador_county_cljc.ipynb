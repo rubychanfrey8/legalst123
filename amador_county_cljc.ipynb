{
  "cells": [
    {
      "cell_type": "markdown",
      "metadata": {
        "id": "FnGTRuS1mSUD"
      },
      "source": [
        "# Libraries, Imports, and Data Reading"
      ]
    },
    {
      "cell_type": "code",
      "execution_count": 3,
      "metadata": {
        "id": "Tw4WvK4bmbjV"
      },
      "outputs": [],
      "source": [
        "import json\n",
        "import zipfile\n",
        "import re\n",
        "import pandas as pd\n",
        "import seaborn as sns\n",
        "import matplotlib.pyplot as plt\n",
        "import numpy as np\n",
        "#from google.colab import drive"
      ]
    },
    {
      "cell_type": "code",
      "execution_count": null,
      "metadata": {
        "colab": {
          "base_uri": "https://localhost:8080/"
        },
        "id": "-Vf-HTWslZtG",
        "outputId": "b99dbfb9-85fc-4a22-98d9-fa13f86be3f6"
      },
      "outputs": [],
      "source": [
        "# User Toggle\n",
        "curr_user = 'Ruby_Local'\n",
        "\n",
        "if curr_user == 'Ruby_Local':\n",
        "  with open(\"C:/Users/rubyc/Documents/work/cjlc/Amador/scraped_data_amador_09_23_version/scraped_data.json\") as file:\n",
        "    data = json.load(file)\n",
        "elif curr_user == 'Ruby_Colab':\n",
        "  drive.mount('/content/drive', force_remount=True)\n",
        "  with open(\"/content/drive/MyDrive/Work/CLJC/scraped_data.json\") as file:\n",
        "    data = json.load(file)"
      ]
    },
    {
      "cell_type": "markdown",
      "metadata": {
        "id": "gKZ0KgrxL2Ar"
      },
      "source": [
        "# Parsing"
      ]
    },
    {
      "cell_type": "markdown",
      "metadata": {
        "id": "LYNiIEAbOkgq"
      },
      "source": [
        "## New Parse"
      ]
    },
    {
      "cell_type": "code",
      "execution_count": 5,
      "metadata": {
        "id": "aiVGTRd6OkN_"
      },
      "outputs": [],
      "source": [
        "# Helper function to flatten nested fields\n",
        "def flatten_nested_field(field, default=\"\"):\n",
        "    if isinstance(field, list):\n",
        "        flat_list = []\n",
        "        for item in field:\n",
        "            if isinstance(item, list):\n",
        "                flat_list.extend(item)\n",
        "            elif item:\n",
        "                flat_list.append(item)\n",
        "        return \"; \".join(flat_list) if flat_list else default\n",
        "    return str(field) if field else default\n",
        "\n",
        "# Initialize lists for each component\n",
        "caseinfo_data = []\n",
        "parties_data = []\n",
        "events_data = []\n",
        "charges_data = []\n",
        "documents_data = []\n",
        "bail_data = []\n",
        "probation_data = []\n",
        "\n",
        "# Loop through each case entry\n",
        "for case_id, case_entries in data.items():\n",
        "    for entry in case_entries:\n",
        "        # Extract top-level case information\n",
        "        case_info = {\n",
        "            \"case_id\": case_id,\n",
        "            \"case_name\": entry.get(\"Case Name\", \"\"),\n",
        "            \"filing_date\": entry.get(\"Filing Date\", \"\"),\n",
        "            \"location\": entry.get(\"Location\", \"\"),\n",
        "            \"case_type\": entry.get(\"Case Type\", \"\"),\n",
        "            \"category\": entry.get(\"Category\", \"\"),\n",
        "            \"status\": entry.get(\"Status\", \"\")\n",
        "        }\n",
        "        caseinfo_data.append(case_info)\n",
        "\n",
        "        # Process Parties\n",
        "        parties = entry.get(\"Parties\", {}).get(\"Parties\", [])\n",
        "        for party in parties:\n",
        "            party_type = flatten_nested_field(party.get(\"Type\"))\n",
        "            party_name = flatten_nested_field(party.get(\"Name\"))\n",
        "            represented_by = flatten_nested_field(party.get(\"Represented By\"))\n",
        "\n",
        "            if party_type or party_name or represented_by:\n",
        "                parties_data.append({\n",
        "                    **case_info,\n",
        "                    \"type\": party_type,\n",
        "                    \"name\": party_name,\n",
        "                    \"represented_by\": represented_by\n",
        "                })\n",
        "\n",
        "        # Process Events\n",
        "        events_list = entry.get(\"Events\", {}).get(\"Events\", [])\n",
        "        for event in events_list:\n",
        "            event_data = {\n",
        "                **case_info,\n",
        "                \"date_time\": flatten_nested_field(event.get(\"Date/Time\")),\n",
        "                \"type\": flatten_nested_field(event.get(\"Type\")),\n",
        "                \"result\": flatten_nested_field(event.get(\"Result\")),\n",
        "                \"official\": flatten_nested_field(event.get(\"Official\")),\n",
        "                \"location\": flatten_nested_field(event.get(\"Location\"))\n",
        "            }\n",
        "            events_data.append(event_data)\n",
        "\n",
        "        # Process Documents\n",
        "        documents = entry.get(\"Documents\", {}).get(\"Documents\", [])\n",
        "        for document in documents:\n",
        "            document_data = {\n",
        "                **case_info,\n",
        "                \"filed_date\": flatten_nested_field(document.get(\"Filed\")),\n",
        "                \"description\": flatten_nested_field(document.get(\"Description\")),\n",
        "                \"filed_by\": flatten_nested_field(document.get(\"Filed By\")),\n",
        "                \"tracking_date\": flatten_nested_field(document.get(\"Tracking Date\"))\n",
        "            }\n",
        "            documents_data.append(document_data)\n",
        "\n",
        "        # Process Charges\n",
        "        charges = entry.get(\"Filings\", {}).get(\"Charges\", [])\n",
        "        for charge in charges:\n",
        "            charge_data = {\n",
        "                **case_info,\n",
        "                \"case_name\": flatten_nested_field(charge.get(\"Charge Information\")),\n",
        "                \"disposition\": flatten_nested_field(charge.get(\"Disposition\"))\n",
        "            }\n",
        "            charges_data.append(charge_data)\n",
        "\n",
        "        # Process Bail Bonds\n",
        "        bail_bonds = entry.get(\"Filings\", {}).get(\"Bail Bonds\", [])\n",
        "        for bail_entry in bail_bonds:\n",
        "            bail_data.append({\n",
        "                **case_info,\n",
        "                \"bail_type_status\": flatten_nested_field(bail_entry.get(\"Type/Status\")),\n",
        "                \"bail_date\": flatten_nested_field(bail_entry.get(\"Date\")),\n",
        "                \"bail_posted_by\": flatten_nested_field(bail_entry.get(\"Posted By\"))\n",
        "            })\n",
        "\n",
        "        # Process Probation\n",
        "        probation_entries = entry.get(\"Filings\", {}).get(\"Probation\", [])\n",
        "        for probation_entry in probation_entries:\n",
        "            conditions_data = flatten_nested_field(probation_entry.get(\"Type & Conditions\", []))\n",
        "\n",
        "            # Split by \";\" and strip spaces\n",
        "            items = [i.strip() for i in conditions_data.split(\";\") if i.strip()]\n",
        "\n",
        "            # First item = probation_type, rest = probation_conditions\n",
        "            probation_type = items[0] if items else \"\"\n",
        "            probation_conditions = \"; \".join(items[1:]) if len(items) > 1 else \"\"\n",
        "\n",
        "            probation_data.append({\n",
        "                **case_info,\n",
        "                \"probation_type\": probation_type,\n",
        "                \"probation_conditions\": probation_conditions\n",
        "            })\n",
        "\n",
        "# Convert lists to DataFrames\n",
        "cases = pd.DataFrame(caseinfo_data)\n",
        "parties = pd.DataFrame(parties_data)\n",
        "events = pd.DataFrame(events_data)\n",
        "charges = pd.DataFrame(charges_data)\n",
        "documents = pd.DataFrame(documents_data)\n",
        "bail = pd.DataFrame(bail_data)\n",
        "probation = pd.DataFrame(probation_data)"
      ]
    },
    {
      "cell_type": "markdown",
      "metadata": {
        "id": "1a_lhKqFuRnx"
      },
      "source": [
        "# Cleaning"
      ]
    },
    {
      "cell_type": "markdown",
      "metadata": {
        "id": "UzHerrLLT1KP"
      },
      "source": [
        "### General Use Functions"
      ]
    },
    {
      "cell_type": "code",
      "execution_count": 6,
      "metadata": {
        "id": "jkP5bJRBTyr8"
      },
      "outputs": [],
      "source": [
        "def drop_empty(df):\n",
        "  df.replace(to_replace={\"\": np.nan}, inplace=True)\n",
        "  df.dropna(how='all', axis=1, inplace=True)\n",
        "  df.reset_index(drop=True, inplace=True)\n",
        "  return df"
      ]
    },
    {
      "cell_type": "markdown",
      "metadata": {
        "id": "vgEwS1l51osF"
      },
      "source": [
        "##Cases"
      ]
    },
    {
      "cell_type": "code",
      "execution_count": 7,
      "metadata": {
        "id": "UD7O4xw11ndY"
      },
      "outputs": [],
      "source": [
        "# Remove duplicate rows based on 'Case ID'\n",
        "cases = cases.drop_duplicates(subset='case_id')\n",
        "cases = cases.copy()\n",
        "\n",
        "# Extract dates from 'status' and store them in 'update_date'\n",
        "cases['update_date'] = cases['status'].str.extract(r'(\\d{2}/\\d{2}/\\d{4})', expand=False)\n",
        "\n",
        "# Normalize and sanitize 'status' values by removing newlines, dates, and converting to lowercase\n",
        "cases['status'] = (\n",
        "    cases['status']\n",
        "    .str.replace('\\n', ' ', regex=True)\n",
        "    .str.replace(r'\\d{2}/\\d{2}/\\d{4}', '', regex=True)\n",
        "    .str.strip()\n",
        "    .str.lower()\n",
        ")\n",
        "\n",
        "def map_status(s):\n",
        "    s = s.lower().strip()  # Normalize input\n",
        "\n",
        "    # 1. Open\n",
        "    if s == 'open':\n",
        "        return 'Open'\n",
        "\n",
        "    # 2. Conviction — Nolo Plea\n",
        "    elif 'nolo plea' in s:\n",
        "        return 'Conviction — Nolo Plea'\n",
        "\n",
        "    # 3. Conviction — Guilty\n",
        "    elif ('guilt' in s or\n",
        "          'jury verdict' in s or\n",
        "          'court finding of guilt' in s or\n",
        "          'guilty plea' in s or\n",
        "          'found true' in s or\n",
        "          'admitted' in s or\n",
        "          'bail forfeiture' in s or\n",
        "          'collections conviction: guilty plea' in s):\n",
        "        return 'Conviction — Guilty'\n",
        "\n",
        "    # 4. Acquitted\n",
        "    elif ('acquittal' in s or\n",
        "          'found not true' in s or\n",
        "          'ng/reason of insanity' in s):\n",
        "        return 'Acquitted'\n",
        "\n",
        "    # 5. Dismissed\n",
        "    elif 'dismissal' in s:\n",
        "        return 'Dismissed'\n",
        "\n",
        "    # 6. Disposed\n",
        "    elif ('disposed' in s or\n",
        "          'consolidated' in s or\n",
        "          'collections case disposed' in s or\n",
        "          'transfer out' in s):\n",
        "        return 'Disposed'\n",
        "\n",
        "    # 7. Other\n",
        "    elif ('intracounty transfer' in s or\n",
        "          'transfer in' in s or\n",
        "          'extradition waived' in s or\n",
        "          'petition granted' in s or\n",
        "          'petition denied' in s or\n",
        "          'petition summarily denied' in s):\n",
        "        return 'Other'\n",
        "\n",
        "# Map statuses to predefined categories\n",
        "cases['status'] = cases['status'].apply(map_status)\n",
        "\n",
        "# Make all dates datetime and coerce errors\n",
        "cases['update_date'] = pd.to_datetime(cases['update_date'], errors='coerce')\n",
        "cases['filing_date'] = pd.to_datetime(cases['filing_date'], errors='coerce')"
      ]
    },
    {
      "cell_type": "code",
      "execution_count": 8,
      "metadata": {
        "colab": {
          "base_uri": "https://localhost:8080/",
          "height": 504
        },
        "id": "mL9ltasTOs2x",
        "outputId": "ff4c1da2-0931-4cb5-b4c3-a696e119f658"
      },
      "outputs": [
        {
          "data": {
            "application/vnd.microsoft.datawrangler.viewer.v0+json": {
              "columns": [
                {
                  "name": "index",
                  "rawType": "int64",
                  "type": "integer"
                },
                {
                  "name": "case_id",
                  "rawType": "object",
                  "type": "string"
                },
                {
                  "name": "case_name",
                  "rawType": "object",
                  "type": "string"
                },
                {
                  "name": "filing_date",
                  "rawType": "datetime64[ns]",
                  "type": "datetime"
                },
                {
                  "name": "location",
                  "rawType": "object",
                  "type": "string"
                },
                {
                  "name": "case_type",
                  "rawType": "object",
                  "type": "string"
                },
                {
                  "name": "category",
                  "rawType": "object",
                  "type": "string"
                },
                {
                  "name": "status",
                  "rawType": "object",
                  "type": "string"
                },
                {
                  "name": "update_date",
                  "rawType": "datetime64[ns]",
                  "type": "datetime"
                }
              ],
              "conversionMethod": "pd.DataFrame",
              "ref": "882fccc1-c4e3-47fb-a8c2-eca34b1123f9",
              "rows": [
                [
                  "0",
                  "24CR34186",
                  "People vs. YESSENIA ESCOBAR ROCHA",
                  "2024-09-18 00:00:00",
                  "Criminal/Traffic",
                  "Misdemeanor",
                  "Misdemeanor: Drug Offense",
                  "Open",
                  null
                ],
                [
                  "2",
                  "24CR34185",
                  "People vs. CESAR JUNIOR MORENO, Jr",
                  "2024-09-18 00:00:00",
                  "Criminal/Traffic",
                  "Misdemeanor",
                  "Misdemeanor: DUI",
                  "Open",
                  null
                ],
                [
                  "4",
                  "24CR34184",
                  "People vs. COURTNEY JONATHAN GARLAND",
                  "2024-09-18 00:00:00",
                  "Criminal/Traffic",
                  "Misdemeanor",
                  "Misdemeanor: Non Traffic/Ordinance",
                  "Open",
                  null
                ],
                [
                  "6",
                  "24CR34183",
                  "People vs. BENJAMIN WILSON HOLCOMB",
                  "2024-09-17 00:00:00",
                  "Criminal/Traffic",
                  "Misdemeanor",
                  "Misdemeanor: Traffic Other",
                  "Open",
                  null
                ],
                [
                  "8",
                  "24CR34182",
                  "People vs. JOSHUA JAMES BANNON",
                  "2024-09-17 00:00:00",
                  "Criminal/Traffic",
                  "Misdemeanor",
                  "Misdemeanor: 14601VC",
                  "Open",
                  null
                ]
              ],
              "shape": {
                "columns": 8,
                "rows": 5
              }
            },
            "text/html": [
              "<div>\n",
              "<style scoped>\n",
              "    .dataframe tbody tr th:only-of-type {\n",
              "        vertical-align: middle;\n",
              "    }\n",
              "\n",
              "    .dataframe tbody tr th {\n",
              "        vertical-align: top;\n",
              "    }\n",
              "\n",
              "    .dataframe thead th {\n",
              "        text-align: right;\n",
              "    }\n",
              "</style>\n",
              "<table border=\"1\" class=\"dataframe\">\n",
              "  <thead>\n",
              "    <tr style=\"text-align: right;\">\n",
              "      <th></th>\n",
              "      <th>case_id</th>\n",
              "      <th>case_name</th>\n",
              "      <th>filing_date</th>\n",
              "      <th>location</th>\n",
              "      <th>case_type</th>\n",
              "      <th>category</th>\n",
              "      <th>status</th>\n",
              "      <th>update_date</th>\n",
              "    </tr>\n",
              "  </thead>\n",
              "  <tbody>\n",
              "    <tr>\n",
              "      <th>0</th>\n",
              "      <td>24CR34186</td>\n",
              "      <td>People vs. YESSENIA ESCOBAR ROCHA</td>\n",
              "      <td>2024-09-18</td>\n",
              "      <td>Criminal/Traffic</td>\n",
              "      <td>Misdemeanor</td>\n",
              "      <td>Misdemeanor: Drug Offense</td>\n",
              "      <td>Open</td>\n",
              "      <td>NaT</td>\n",
              "    </tr>\n",
              "    <tr>\n",
              "      <th>2</th>\n",
              "      <td>24CR34185</td>\n",
              "      <td>People vs. CESAR JUNIOR MORENO, Jr</td>\n",
              "      <td>2024-09-18</td>\n",
              "      <td>Criminal/Traffic</td>\n",
              "      <td>Misdemeanor</td>\n",
              "      <td>Misdemeanor: DUI</td>\n",
              "      <td>Open</td>\n",
              "      <td>NaT</td>\n",
              "    </tr>\n",
              "    <tr>\n",
              "      <th>4</th>\n",
              "      <td>24CR34184</td>\n",
              "      <td>People vs. COURTNEY JONATHAN GARLAND</td>\n",
              "      <td>2024-09-18</td>\n",
              "      <td>Criminal/Traffic</td>\n",
              "      <td>Misdemeanor</td>\n",
              "      <td>Misdemeanor: Non Traffic/Ordinance</td>\n",
              "      <td>Open</td>\n",
              "      <td>NaT</td>\n",
              "    </tr>\n",
              "    <tr>\n",
              "      <th>6</th>\n",
              "      <td>24CR34183</td>\n",
              "      <td>People vs. BENJAMIN WILSON HOLCOMB</td>\n",
              "      <td>2024-09-17</td>\n",
              "      <td>Criminal/Traffic</td>\n",
              "      <td>Misdemeanor</td>\n",
              "      <td>Misdemeanor: Traffic Other</td>\n",
              "      <td>Open</td>\n",
              "      <td>NaT</td>\n",
              "    </tr>\n",
              "    <tr>\n",
              "      <th>8</th>\n",
              "      <td>24CR34182</td>\n",
              "      <td>People vs. JOSHUA JAMES BANNON</td>\n",
              "      <td>2024-09-17</td>\n",
              "      <td>Criminal/Traffic</td>\n",
              "      <td>Misdemeanor</td>\n",
              "      <td>Misdemeanor: 14601VC</td>\n",
              "      <td>Open</td>\n",
              "      <td>NaT</td>\n",
              "    </tr>\n",
              "  </tbody>\n",
              "</table>\n",
              "</div>"
            ],
            "text/plain": [
              "     case_id                             case_name filing_date  \\\n",
              "0  24CR34186     People vs. YESSENIA ESCOBAR ROCHA  2024-09-18   \n",
              "2  24CR34185    People vs. CESAR JUNIOR MORENO, Jr  2024-09-18   \n",
              "4  24CR34184  People vs. COURTNEY JONATHAN GARLAND  2024-09-18   \n",
              "6  24CR34183    People vs. BENJAMIN WILSON HOLCOMB  2024-09-17   \n",
              "8  24CR34182        People vs. JOSHUA JAMES BANNON  2024-09-17   \n",
              "\n",
              "           location    case_type                            category status  \\\n",
              "0  Criminal/Traffic  Misdemeanor           Misdemeanor: Drug Offense   Open   \n",
              "2  Criminal/Traffic  Misdemeanor                    Misdemeanor: DUI   Open   \n",
              "4  Criminal/Traffic  Misdemeanor  Misdemeanor: Non Traffic/Ordinance   Open   \n",
              "6  Criminal/Traffic  Misdemeanor          Misdemeanor: Traffic Other   Open   \n",
              "8  Criminal/Traffic  Misdemeanor                Misdemeanor: 14601VC   Open   \n",
              "\n",
              "  update_date  \n",
              "0         NaT  \n",
              "2         NaT  \n",
              "4         NaT  \n",
              "6         NaT  \n",
              "8         NaT  "
            ]
          },
          "execution_count": 8,
          "metadata": {},
          "output_type": "execute_result"
        }
      ],
      "source": [
        "cases.head()"
      ]
    },
    {
      "cell_type": "markdown",
      "metadata": {
        "id": "VIo58md-HoPf"
      },
      "source": [
        "## Parties"
      ]
    },
    {
      "cell_type": "code",
      "execution_count": null,
      "metadata": {
        "colab": {
          "base_uri": "https://localhost:8080/"
        },
        "id": "DVGTZswWUPub",
        "outputId": "12868a55-65d0-4739-8291-b425cfb8b54a"
      },
      "outputs": [
        {
          "name": "stderr",
          "output_type": "stream",
          "text": [
            "C:\\Users\\rubyc\\AppData\\Local\\Temp\\ipykernel_2448\\1030528905.py:2: FutureWarning: Downcasting behavior in `replace` is deprecated and will be removed in a future version. To retain the old behavior, explicitly call `result.infer_objects(copy=False)`. To opt-in to the future behavior, set `pd.set_option('future.no_silent_downcasting', True)`\n",
            "  df.replace(to_replace={\"\": np.nan}, inplace=True)\n"
          ]
        }
      ],
      "source": [
        "# Handle NA Columns\n",
        "parties = drop_empty(parties)\n",
        "\n",
        "# Normalize 'represented_by' column for \"IN PRO PER\"\n",
        "parties['represented_by'] = parties['represented_by'].replace(to_replace=r\".*\\bIN PRO PER\\b.*\", value=\"IN PRO PER\", regex=True)\n",
        "\n",
        "# Drop empty columns\n",
        "parties.dropna(how='all', axis=1, inplace=True)\n",
        "\n",
        "#Normalize Name\n",
        "parties['name'] = parties['name'].apply(lambda x: re.sub(r\"\\n.*\", \"\", str(x)).strip())\n"
      ]
    },
    {
      "cell_type": "code",
      "execution_count": 10,
      "metadata": {
        "colab": {
          "base_uri": "https://localhost:8080/",
          "height": 400
        },
        "id": "9XICYBKxHvlP",
        "outputId": "0af4b34b-989a-4b13-df9d-ecade88f6555"
      },
      "outputs": [
        {
          "data": {
            "application/vnd.microsoft.datawrangler.viewer.v0+json": {
              "columns": [
                {
                  "name": "index",
                  "rawType": "int64",
                  "type": "integer"
                },
                {
                  "name": "case_id",
                  "rawType": "object",
                  "type": "string"
                },
                {
                  "name": "type",
                  "rawType": "object",
                  "type": "string"
                },
                {
                  "name": "name",
                  "rawType": "object",
                  "type": "string"
                },
                {
                  "name": "represented_by",
                  "rawType": "object",
                  "type": "unknown"
                }
              ],
              "conversionMethod": "pd.DataFrame",
              "ref": "f1b38739-5cc4-467c-ada4-21b612645388",
              "rows": [
                [
                  "0",
                  "24CR34186",
                  "Defendant",
                  "ROCHA, YESSENIA ESCOBAR",
                  null
                ],
                [
                  "1",
                  "24CR34185",
                  "Defendant",
                  "MORENO, CESAR JUNIOR Jr",
                  null
                ],
                [
                  "2",
                  "24CR34184",
                  "Defendant",
                  "GARLAND, COURTNEY JONATHAN",
                  null
                ],
                [
                  "3",
                  "24CR34183",
                  "Defendant",
                  "HOLCOMB, BENJAMIN WILSON",
                  null
                ],
                [
                  "4",
                  "24CR34182",
                  "Defendant",
                  "BANNON, JOSHUA JAMES",
                  null
                ]
              ],
              "shape": {
                "columns": 4,
                "rows": 5
              }
            },
            "text/html": [
              "<div>\n",
              "<style scoped>\n",
              "    .dataframe tbody tr th:only-of-type {\n",
              "        vertical-align: middle;\n",
              "    }\n",
              "\n",
              "    .dataframe tbody tr th {\n",
              "        vertical-align: top;\n",
              "    }\n",
              "\n",
              "    .dataframe thead th {\n",
              "        text-align: right;\n",
              "    }\n",
              "</style>\n",
              "<table border=\"1\" class=\"dataframe\">\n",
              "  <thead>\n",
              "    <tr style=\"text-align: right;\">\n",
              "      <th></th>\n",
              "      <th>case_id</th>\n",
              "      <th>type</th>\n",
              "      <th>name</th>\n",
              "      <th>represented_by</th>\n",
              "    </tr>\n",
              "  </thead>\n",
              "  <tbody>\n",
              "    <tr>\n",
              "      <th>0</th>\n",
              "      <td>24CR34186</td>\n",
              "      <td>Defendant</td>\n",
              "      <td>ROCHA, YESSENIA ESCOBAR</td>\n",
              "      <td>NaN</td>\n",
              "    </tr>\n",
              "    <tr>\n",
              "      <th>1</th>\n",
              "      <td>24CR34185</td>\n",
              "      <td>Defendant</td>\n",
              "      <td>MORENO, CESAR JUNIOR Jr</td>\n",
              "      <td>NaN</td>\n",
              "    </tr>\n",
              "    <tr>\n",
              "      <th>2</th>\n",
              "      <td>24CR34184</td>\n",
              "      <td>Defendant</td>\n",
              "      <td>GARLAND, COURTNEY JONATHAN</td>\n",
              "      <td>NaN</td>\n",
              "    </tr>\n",
              "    <tr>\n",
              "      <th>3</th>\n",
              "      <td>24CR34183</td>\n",
              "      <td>Defendant</td>\n",
              "      <td>HOLCOMB, BENJAMIN WILSON</td>\n",
              "      <td>NaN</td>\n",
              "    </tr>\n",
              "    <tr>\n",
              "      <th>4</th>\n",
              "      <td>24CR34182</td>\n",
              "      <td>Defendant</td>\n",
              "      <td>BANNON, JOSHUA JAMES</td>\n",
              "      <td>NaN</td>\n",
              "    </tr>\n",
              "  </tbody>\n",
              "</table>\n",
              "</div>"
            ],
            "text/plain": [
              "     case_id       type                        name represented_by\n",
              "0  24CR34186  Defendant     ROCHA, YESSENIA ESCOBAR            NaN\n",
              "1  24CR34185  Defendant     MORENO, CESAR JUNIOR Jr            NaN\n",
              "2  24CR34184  Defendant  GARLAND, COURTNEY JONATHAN            NaN\n",
              "3  24CR34183  Defendant    HOLCOMB, BENJAMIN WILSON            NaN\n",
              "4  24CR34182  Defendant        BANNON, JOSHUA JAMES            NaN"
            ]
          },
          "execution_count": 10,
          "metadata": {},
          "output_type": "execute_result"
        }
      ],
      "source": [
        "parties.head()"
      ]
    },
    {
      "cell_type": "markdown",
      "metadata": {
        "id": "vZBqTGkaW-PW"
      },
      "source": [
        "## Events"
      ]
    },
    {
      "cell_type": "code",
      "execution_count": 11,
      "metadata": {
        "colab": {
          "base_uri": "https://localhost:8080/"
        },
        "id": "eoNS1NWXW9v4",
        "outputId": "07211d09-572b-43ff-b6f8-a4bae2c2ecc8"
      },
      "outputs": [
        {
          "name": "stderr",
          "output_type": "stream",
          "text": [
            "C:\\Users\\rubyc\\AppData\\Local\\Temp\\ipykernel_2448\\1030528905.py:2: FutureWarning: Downcasting behavior in `replace` is deprecated and will be removed in a future version. To retain the old behavior, explicitly call `result.infer_objects(copy=False)`. To opt-in to the future behavior, set `pd.set_option('future.no_silent_downcasting', True)`\n",
            "  df.replace(to_replace={\"\": np.nan}, inplace=True)\n",
            "C:\\Users\\rubyc\\AppData\\Local\\Temp\\ipykernel_2448\\72661210.py:10: UserWarning: Could not infer format, so each element will be parsed individually, falling back to `dateutil`. To ensure parsing is consistent and as-expected, please specify a format.\n",
            "  events['date'] = pd.to_datetime(events['date'], errors='coerce')\n"
          ]
        }
      ],
      "source": [
        "# Handle NA Columns\n",
        "events = drop_empty(events)\n",
        "\n",
        "# Remove empty duplicate rows\n",
        "events = events[~(events['location'].isna() & events['type'].isna() & events['official'].isna() & events['date_time'].isna())]\n",
        "\n",
        "# Remove case name from Date/Time and rename to Date\n",
        "events['date_time'] = events['date_time'].str.replace(r';.*', '', regex=True)\n",
        "events.rename(columns={'date_time': 'date'}, inplace=True)\n",
        "events['date'] = pd.to_datetime(events['date'], errors='coerce')\n"
      ]
    },
    {
      "cell_type": "code",
      "execution_count": 12,
      "metadata": {
        "id": "fRLtWTY7RjZg"
      },
      "outputs": [],
      "source": [
        "\n",
        "#motion results mapping\n",
        "def map_motion_results(s):\n",
        "  #try:\n",
        "    if s is not None:\n",
        "        s = str(s)\n",
        "        s = s.lower().strip()  # Normalize input\n",
        "\n",
        "        # 1. Not Heard\n",
        "        if 'not heard' in s:\n",
        "            return 'Not Heard'\n",
        "\n",
        "        # 2. Denied\n",
        "        elif 'denied' in s:\n",
        "            return 'Denied'\n",
        "\n",
        "        # 3. Granted\n",
        "        elif ('granted' in s):\n",
        "            return 'Granted'\n",
        "\n",
        "        # 4. Heard\n",
        "        elif ('heard' in s):\n",
        "            return 'Heard'\n",
        "\n",
        "        # 5. Anything Else\n",
        "        else:\n",
        "            return 'Other'\n",
        "    else:\n",
        "      return None\n",
        "  #except Exception as e: print(s, e)\n",
        "\n",
        "# Map statuses to predefined categories\n",
        "events['result'] = events['result'].apply(map_motion_results)"
      ]
    },
    {
      "cell_type": "code",
      "execution_count": 13,
      "metadata": {
        "colab": {
          "base_uri": "https://localhost:8080/",
          "height": 1000
        },
        "id": "Zi-aFthsa9fd",
        "outputId": "ce266d4b-6d76-4f82-8116-7b0e306bf36d"
      },
      "outputs": [
        {
          "data": {
            "application/vnd.microsoft.datawrangler.viewer.v0+json": {
              "columns": [
                {
                  "name": "index",
                  "rawType": "int64",
                  "type": "integer"
                },
                {
                  "name": "case_id",
                  "rawType": "object",
                  "type": "string"
                },
                {
                  "name": "location",
                  "rawType": "object",
                  "type": "string"
                },
                {
                  "name": "date",
                  "rawType": "datetime64[ns]",
                  "type": "datetime"
                },
                {
                  "name": "type",
                  "rawType": "object",
                  "type": "string"
                },
                {
                  "name": "result",
                  "rawType": "object",
                  "type": "string"
                },
                {
                  "name": "official",
                  "rawType": "object",
                  "type": "string"
                }
              ],
              "conversionMethod": "pd.DataFrame",
              "ref": "6dd8f714-802b-48d9-b9b8-784fe39b3cdc",
              "rows": [
                [
                  "0",
                  "24CR34186",
                  "Department 3",
                  null,
                  "Arraignment: Complaint",
                  "Other",
                  "PAK"
                ],
                [
                  "2",
                  "24CR34185",
                  "Department 3",
                  null,
                  "Arraignment: Complaint",
                  "Other",
                  "PAK"
                ],
                [
                  "4",
                  "24CR34184",
                  "Department 1",
                  null,
                  "Arraignment: Complaint",
                  "Other",
                  "WHITE"
                ],
                [
                  "6",
                  "24CR34183",
                  "Department 3",
                  null,
                  "Arraignment: Complaint",
                  "Other",
                  "PAK"
                ],
                [
                  "8",
                  "24CR34182",
                  "Department 3",
                  null,
                  "Arraignment: Citation",
                  "Other",
                  "PAK"
                ],
                [
                  "10",
                  "24CR34181",
                  "Department 3",
                  null,
                  "Arraignment: Complaint",
                  "Other",
                  "PAK"
                ],
                [
                  "12",
                  "24CR34180",
                  "Department 3",
                  null,
                  "Arraignment: Citation",
                  "Other",
                  "PAK"
                ],
                [
                  "14",
                  "24CR34179",
                  "Department 3",
                  null,
                  "Arraignment: Complaint",
                  "Other",
                  "PAK"
                ],
                [
                  "16",
                  "24CR34178",
                  "Department 3",
                  null,
                  "Arraignment: Complaint",
                  "Other",
                  "PAK"
                ],
                [
                  "18",
                  "24CR34177",
                  "Department 3",
                  null,
                  "Further Arraignment: Complaint",
                  "Other",
                  "PAK"
                ],
                [
                  "19",
                  "24CR34177",
                  "Department 1",
                  "2024-09-18 08:30:00",
                  "Arraignment: Complaint",
                  "Heard",
                  "WHITE"
                ],
                [
                  "21",
                  "24CR34175",
                  "Department 3",
                  null,
                  "Arraignment: Complaint",
                  "Other",
                  "PAK"
                ],
                [
                  "23",
                  "24CR34174",
                  "Department 1",
                  null,
                  "Pre Prelim",
                  "Other",
                  "HERMANSON"
                ],
                [
                  "24",
                  "24CR34174",
                  "Department 1",
                  "2024-10-01 08:30:00",
                  "Preliminary Examination",
                  "Other",
                  "HERMANSON"
                ],
                [
                  "25",
                  "24CR34174",
                  "Department 1",
                  "2024-09-16 13:30:00",
                  "Arraignment: Complaint",
                  "Other",
                  "WHITE"
                ],
                [
                  "27",
                  "24CR34173",
                  "Department 1",
                  null,
                  "Further Arraignment: Complaint",
                  "Other",
                  "HERMANSON"
                ],
                [
                  "28",
                  "24CR34173",
                  "Department 1",
                  "2024-09-16 13:30:00",
                  "Arraignment: Complaint",
                  "Heard",
                  "WHITE"
                ],
                [
                  "30",
                  "24CR34172",
                  "Department 1",
                  null,
                  "Further Arraignment: Complaint",
                  "Other",
                  "HERMANSON"
                ],
                [
                  "31",
                  "24CR34172",
                  "Department 1",
                  "2024-09-16 13:30:00",
                  "Arraignment: Complaint",
                  "Heard",
                  "WHITE"
                ],
                [
                  "33",
                  "24CR34170",
                  "Department 1",
                  null,
                  "Arraignment: Complaint",
                  "Other",
                  "HERMANSON"
                ],
                [
                  "35",
                  "24CR34169",
                  "Department 1",
                  null,
                  "Further Arraignment: Complaint",
                  "Other",
                  "HERMANSON"
                ],
                [
                  "36",
                  "24CR34169",
                  "Department 1",
                  "2024-09-18 08:30:00",
                  "Arraignment: Complaint",
                  "Heard",
                  "WHITE"
                ],
                [
                  "38",
                  "24CR34168",
                  "Department 1",
                  null,
                  "Preliminary Examination - NTW",
                  "Other",
                  "HERMANSON"
                ],
                [
                  "39",
                  "24CR34168",
                  "Department 1",
                  "2024-09-16 13:30:00",
                  "Arraignment: Complaint",
                  "Heard",
                  "WHITE"
                ],
                [
                  "41",
                  "24CR34167",
                  "Department 3",
                  null,
                  "Arraignment: Complaint",
                  "Other",
                  "PAK"
                ],
                [
                  "43",
                  "24CR34166",
                  "Department 3",
                  null,
                  "Arraignment: Citation",
                  "Other",
                  "PAK"
                ],
                [
                  "45",
                  "24CR34165",
                  "Department 3",
                  null,
                  "Arraignment: Citation",
                  "Other",
                  "PAK"
                ],
                [
                  "47",
                  "24CR34164",
                  "Department 3",
                  null,
                  "Arraignment: Complaint",
                  "Other",
                  "PAK"
                ],
                [
                  "49",
                  "24CR34163",
                  "Department 1",
                  null,
                  "Further Arraignment: Complaint",
                  "Other",
                  "HERMANSON"
                ],
                [
                  "50",
                  "24CR34163",
                  "Department 1",
                  "2024-09-16 08:30:00",
                  "Further Arraignment: Complaint - & ISSUANCE OF CPO",
                  "Heard",
                  "WHITE"
                ],
                [
                  "51",
                  "24CR34163",
                  "Department 2",
                  "2024-09-13 13:30:00",
                  "Arraignment: Complaint",
                  "Heard",
                  "DAY"
                ],
                [
                  "53",
                  "24CR34162",
                  "Department 1",
                  null,
                  "Trial Readiness Conference",
                  "Other",
                  "HERMANSON"
                ],
                [
                  "54",
                  "24CR34162",
                  "Department 1",
                  "2024-10-28 08:30:00",
                  "Jury Trial",
                  "Other",
                  "HERMANSON"
                ],
                [
                  "55",
                  "24CR34162",
                  "Department 1",
                  "2024-09-17 13:30:00",
                  "Further Arraignment: Complaint",
                  "Other",
                  "WHITE"
                ],
                [
                  "56",
                  "24CR34162",
                  "Department 2",
                  "2024-09-13 13:30:00",
                  "Arraignment: Complaint",
                  "Heard",
                  "DAY"
                ],
                [
                  "58",
                  "24CR34161",
                  "Department 3",
                  null,
                  "Arraignment: Complaint",
                  "Other",
                  "PAK"
                ],
                [
                  "60",
                  "24CR34159",
                  "Department 3",
                  null,
                  "Arraignment: Complaint",
                  "Other",
                  "PAK"
                ],
                [
                  "62",
                  "24CR34157",
                  "Department 3",
                  null,
                  "Arraignment: Complaint",
                  "Other",
                  "PAK"
                ],
                [
                  "64",
                  "24CR34156",
                  "Department 1",
                  null,
                  "Arraignment: Complaint",
                  "Other",
                  "WHITE"
                ],
                [
                  "66",
                  "24CR34155",
                  "Department 3",
                  null,
                  "Arraignment: Complaint",
                  "Other",
                  "PAK"
                ],
                [
                  "67",
                  "24CR34155",
                  "Department 1",
                  "2024-09-18 08:30:00",
                  "Arraignment: Complaint",
                  "Other",
                  "WHITE"
                ],
                [
                  "69",
                  "24CR34154",
                  "Department 3",
                  null,
                  "Further Arraignment: Complaint",
                  "Other",
                  "PAK"
                ],
                [
                  "70",
                  "24CR34154",
                  "Department 1",
                  "2024-09-18 08:30:00",
                  "Arraignment: Complaint",
                  "Heard",
                  "WHITE"
                ],
                [
                  "72",
                  "24CR34153",
                  "Department 3",
                  null,
                  "Further Arraignment: Complaint",
                  "Other",
                  "HERMANSON"
                ],
                [
                  "73",
                  "24CR34153",
                  "Department 1",
                  "2024-09-12 13:30:00",
                  "Arraignment: Complaint",
                  "Heard",
                  "HERMANSON"
                ],
                [
                  "75",
                  "24CR34152",
                  "Department 1",
                  null,
                  "Arraignment: Complaint",
                  "Other",
                  "Syren"
                ],
                [
                  "77",
                  "24CR34151",
                  "Department 3",
                  null,
                  "Arraignment: Complaint",
                  "Other",
                  "PAK"
                ],
                [
                  "79",
                  "24CR34150",
                  "Department 3",
                  null,
                  "Arraignment: Complaint",
                  "Other",
                  "PAK"
                ],
                [
                  "81",
                  "24CR34149",
                  "Department 3",
                  null,
                  "Arraignment: Complaint",
                  "Other",
                  "PAK"
                ],
                [
                  "83",
                  "24CR34148",
                  "Department 1",
                  null,
                  "Arraignment: Complaint",
                  "Other",
                  "HERMANSON"
                ]
              ],
              "shape": {
                "columns": 6,
                "rows": 50
              }
            },
            "text/html": [
              "<div>\n",
              "<style scoped>\n",
              "    .dataframe tbody tr th:only-of-type {\n",
              "        vertical-align: middle;\n",
              "    }\n",
              "\n",
              "    .dataframe tbody tr th {\n",
              "        vertical-align: top;\n",
              "    }\n",
              "\n",
              "    .dataframe thead th {\n",
              "        text-align: right;\n",
              "    }\n",
              "</style>\n",
              "<table border=\"1\" class=\"dataframe\">\n",
              "  <thead>\n",
              "    <tr style=\"text-align: right;\">\n",
              "      <th></th>\n",
              "      <th>case_id</th>\n",
              "      <th>location</th>\n",
              "      <th>date</th>\n",
              "      <th>type</th>\n",
              "      <th>result</th>\n",
              "      <th>official</th>\n",
              "    </tr>\n",
              "  </thead>\n",
              "  <tbody>\n",
              "    <tr>\n",
              "      <th>0</th>\n",
              "      <td>24CR34186</td>\n",
              "      <td>Department 3</td>\n",
              "      <td>NaT</td>\n",
              "      <td>Arraignment: Complaint</td>\n",
              "      <td>Other</td>\n",
              "      <td>PAK</td>\n",
              "    </tr>\n",
              "    <tr>\n",
              "      <th>2</th>\n",
              "      <td>24CR34185</td>\n",
              "      <td>Department 3</td>\n",
              "      <td>NaT</td>\n",
              "      <td>Arraignment: Complaint</td>\n",
              "      <td>Other</td>\n",
              "      <td>PAK</td>\n",
              "    </tr>\n",
              "    <tr>\n",
              "      <th>4</th>\n",
              "      <td>24CR34184</td>\n",
              "      <td>Department 1</td>\n",
              "      <td>NaT</td>\n",
              "      <td>Arraignment: Complaint</td>\n",
              "      <td>Other</td>\n",
              "      <td>WHITE</td>\n",
              "    </tr>\n",
              "    <tr>\n",
              "      <th>6</th>\n",
              "      <td>24CR34183</td>\n",
              "      <td>Department 3</td>\n",
              "      <td>NaT</td>\n",
              "      <td>Arraignment: Complaint</td>\n",
              "      <td>Other</td>\n",
              "      <td>PAK</td>\n",
              "    </tr>\n",
              "    <tr>\n",
              "      <th>8</th>\n",
              "      <td>24CR34182</td>\n",
              "      <td>Department 3</td>\n",
              "      <td>NaT</td>\n",
              "      <td>Arraignment: Citation</td>\n",
              "      <td>Other</td>\n",
              "      <td>PAK</td>\n",
              "    </tr>\n",
              "    <tr>\n",
              "      <th>10</th>\n",
              "      <td>24CR34181</td>\n",
              "      <td>Department 3</td>\n",
              "      <td>NaT</td>\n",
              "      <td>Arraignment: Complaint</td>\n",
              "      <td>Other</td>\n",
              "      <td>PAK</td>\n",
              "    </tr>\n",
              "    <tr>\n",
              "      <th>12</th>\n",
              "      <td>24CR34180</td>\n",
              "      <td>Department 3</td>\n",
              "      <td>NaT</td>\n",
              "      <td>Arraignment: Citation</td>\n",
              "      <td>Other</td>\n",
              "      <td>PAK</td>\n",
              "    </tr>\n",
              "    <tr>\n",
              "      <th>14</th>\n",
              "      <td>24CR34179</td>\n",
              "      <td>Department 3</td>\n",
              "      <td>NaT</td>\n",
              "      <td>Arraignment: Complaint</td>\n",
              "      <td>Other</td>\n",
              "      <td>PAK</td>\n",
              "    </tr>\n",
              "    <tr>\n",
              "      <th>16</th>\n",
              "      <td>24CR34178</td>\n",
              "      <td>Department 3</td>\n",
              "      <td>NaT</td>\n",
              "      <td>Arraignment: Complaint</td>\n",
              "      <td>Other</td>\n",
              "      <td>PAK</td>\n",
              "    </tr>\n",
              "    <tr>\n",
              "      <th>18</th>\n",
              "      <td>24CR34177</td>\n",
              "      <td>Department 3</td>\n",
              "      <td>NaT</td>\n",
              "      <td>Further Arraignment: Complaint</td>\n",
              "      <td>Other</td>\n",
              "      <td>PAK</td>\n",
              "    </tr>\n",
              "    <tr>\n",
              "      <th>19</th>\n",
              "      <td>24CR34177</td>\n",
              "      <td>Department 1</td>\n",
              "      <td>2024-09-18 08:30:00</td>\n",
              "      <td>Arraignment: Complaint</td>\n",
              "      <td>Heard</td>\n",
              "      <td>WHITE</td>\n",
              "    </tr>\n",
              "    <tr>\n",
              "      <th>21</th>\n",
              "      <td>24CR34175</td>\n",
              "      <td>Department 3</td>\n",
              "      <td>NaT</td>\n",
              "      <td>Arraignment: Complaint</td>\n",
              "      <td>Other</td>\n",
              "      <td>PAK</td>\n",
              "    </tr>\n",
              "    <tr>\n",
              "      <th>23</th>\n",
              "      <td>24CR34174</td>\n",
              "      <td>Department 1</td>\n",
              "      <td>NaT</td>\n",
              "      <td>Pre Prelim</td>\n",
              "      <td>Other</td>\n",
              "      <td>HERMANSON</td>\n",
              "    </tr>\n",
              "    <tr>\n",
              "      <th>24</th>\n",
              "      <td>24CR34174</td>\n",
              "      <td>Department 1</td>\n",
              "      <td>2024-10-01 08:30:00</td>\n",
              "      <td>Preliminary Examination</td>\n",
              "      <td>Other</td>\n",
              "      <td>HERMANSON</td>\n",
              "    </tr>\n",
              "    <tr>\n",
              "      <th>25</th>\n",
              "      <td>24CR34174</td>\n",
              "      <td>Department 1</td>\n",
              "      <td>2024-09-16 13:30:00</td>\n",
              "      <td>Arraignment: Complaint</td>\n",
              "      <td>Other</td>\n",
              "      <td>WHITE</td>\n",
              "    </tr>\n",
              "    <tr>\n",
              "      <th>27</th>\n",
              "      <td>24CR34173</td>\n",
              "      <td>Department 1</td>\n",
              "      <td>NaT</td>\n",
              "      <td>Further Arraignment: Complaint</td>\n",
              "      <td>Other</td>\n",
              "      <td>HERMANSON</td>\n",
              "    </tr>\n",
              "    <tr>\n",
              "      <th>28</th>\n",
              "      <td>24CR34173</td>\n",
              "      <td>Department 1</td>\n",
              "      <td>2024-09-16 13:30:00</td>\n",
              "      <td>Arraignment: Complaint</td>\n",
              "      <td>Heard</td>\n",
              "      <td>WHITE</td>\n",
              "    </tr>\n",
              "    <tr>\n",
              "      <th>30</th>\n",
              "      <td>24CR34172</td>\n",
              "      <td>Department 1</td>\n",
              "      <td>NaT</td>\n",
              "      <td>Further Arraignment: Complaint</td>\n",
              "      <td>Other</td>\n",
              "      <td>HERMANSON</td>\n",
              "    </tr>\n",
              "    <tr>\n",
              "      <th>31</th>\n",
              "      <td>24CR34172</td>\n",
              "      <td>Department 1</td>\n",
              "      <td>2024-09-16 13:30:00</td>\n",
              "      <td>Arraignment: Complaint</td>\n",
              "      <td>Heard</td>\n",
              "      <td>WHITE</td>\n",
              "    </tr>\n",
              "    <tr>\n",
              "      <th>33</th>\n",
              "      <td>24CR34170</td>\n",
              "      <td>Department 1</td>\n",
              "      <td>NaT</td>\n",
              "      <td>Arraignment: Complaint</td>\n",
              "      <td>Other</td>\n",
              "      <td>HERMANSON</td>\n",
              "    </tr>\n",
              "    <tr>\n",
              "      <th>35</th>\n",
              "      <td>24CR34169</td>\n",
              "      <td>Department 1</td>\n",
              "      <td>NaT</td>\n",
              "      <td>Further Arraignment: Complaint</td>\n",
              "      <td>Other</td>\n",
              "      <td>HERMANSON</td>\n",
              "    </tr>\n",
              "    <tr>\n",
              "      <th>36</th>\n",
              "      <td>24CR34169</td>\n",
              "      <td>Department 1</td>\n",
              "      <td>2024-09-18 08:30:00</td>\n",
              "      <td>Arraignment: Complaint</td>\n",
              "      <td>Heard</td>\n",
              "      <td>WHITE</td>\n",
              "    </tr>\n",
              "    <tr>\n",
              "      <th>38</th>\n",
              "      <td>24CR34168</td>\n",
              "      <td>Department 1</td>\n",
              "      <td>NaT</td>\n",
              "      <td>Preliminary Examination - NTW</td>\n",
              "      <td>Other</td>\n",
              "      <td>HERMANSON</td>\n",
              "    </tr>\n",
              "    <tr>\n",
              "      <th>39</th>\n",
              "      <td>24CR34168</td>\n",
              "      <td>Department 1</td>\n",
              "      <td>2024-09-16 13:30:00</td>\n",
              "      <td>Arraignment: Complaint</td>\n",
              "      <td>Heard</td>\n",
              "      <td>WHITE</td>\n",
              "    </tr>\n",
              "    <tr>\n",
              "      <th>41</th>\n",
              "      <td>24CR34167</td>\n",
              "      <td>Department 3</td>\n",
              "      <td>NaT</td>\n",
              "      <td>Arraignment: Complaint</td>\n",
              "      <td>Other</td>\n",
              "      <td>PAK</td>\n",
              "    </tr>\n",
              "    <tr>\n",
              "      <th>43</th>\n",
              "      <td>24CR34166</td>\n",
              "      <td>Department 3</td>\n",
              "      <td>NaT</td>\n",
              "      <td>Arraignment: Citation</td>\n",
              "      <td>Other</td>\n",
              "      <td>PAK</td>\n",
              "    </tr>\n",
              "    <tr>\n",
              "      <th>45</th>\n",
              "      <td>24CR34165</td>\n",
              "      <td>Department 3</td>\n",
              "      <td>NaT</td>\n",
              "      <td>Arraignment: Citation</td>\n",
              "      <td>Other</td>\n",
              "      <td>PAK</td>\n",
              "    </tr>\n",
              "    <tr>\n",
              "      <th>47</th>\n",
              "      <td>24CR34164</td>\n",
              "      <td>Department 3</td>\n",
              "      <td>NaT</td>\n",
              "      <td>Arraignment: Complaint</td>\n",
              "      <td>Other</td>\n",
              "      <td>PAK</td>\n",
              "    </tr>\n",
              "    <tr>\n",
              "      <th>49</th>\n",
              "      <td>24CR34163</td>\n",
              "      <td>Department 1</td>\n",
              "      <td>NaT</td>\n",
              "      <td>Further Arraignment: Complaint</td>\n",
              "      <td>Other</td>\n",
              "      <td>HERMANSON</td>\n",
              "    </tr>\n",
              "    <tr>\n",
              "      <th>50</th>\n",
              "      <td>24CR34163</td>\n",
              "      <td>Department 1</td>\n",
              "      <td>2024-09-16 08:30:00</td>\n",
              "      <td>Further Arraignment: Complaint - &amp; ISSUANCE OF...</td>\n",
              "      <td>Heard</td>\n",
              "      <td>WHITE</td>\n",
              "    </tr>\n",
              "    <tr>\n",
              "      <th>51</th>\n",
              "      <td>24CR34163</td>\n",
              "      <td>Department 2</td>\n",
              "      <td>2024-09-13 13:30:00</td>\n",
              "      <td>Arraignment: Complaint</td>\n",
              "      <td>Heard</td>\n",
              "      <td>DAY</td>\n",
              "    </tr>\n",
              "    <tr>\n",
              "      <th>53</th>\n",
              "      <td>24CR34162</td>\n",
              "      <td>Department 1</td>\n",
              "      <td>NaT</td>\n",
              "      <td>Trial Readiness Conference</td>\n",
              "      <td>Other</td>\n",
              "      <td>HERMANSON</td>\n",
              "    </tr>\n",
              "    <tr>\n",
              "      <th>54</th>\n",
              "      <td>24CR34162</td>\n",
              "      <td>Department 1</td>\n",
              "      <td>2024-10-28 08:30:00</td>\n",
              "      <td>Jury Trial</td>\n",
              "      <td>Other</td>\n",
              "      <td>HERMANSON</td>\n",
              "    </tr>\n",
              "    <tr>\n",
              "      <th>55</th>\n",
              "      <td>24CR34162</td>\n",
              "      <td>Department 1</td>\n",
              "      <td>2024-09-17 13:30:00</td>\n",
              "      <td>Further Arraignment: Complaint</td>\n",
              "      <td>Other</td>\n",
              "      <td>WHITE</td>\n",
              "    </tr>\n",
              "    <tr>\n",
              "      <th>56</th>\n",
              "      <td>24CR34162</td>\n",
              "      <td>Department 2</td>\n",
              "      <td>2024-09-13 13:30:00</td>\n",
              "      <td>Arraignment: Complaint</td>\n",
              "      <td>Heard</td>\n",
              "      <td>DAY</td>\n",
              "    </tr>\n",
              "    <tr>\n",
              "      <th>58</th>\n",
              "      <td>24CR34161</td>\n",
              "      <td>Department 3</td>\n",
              "      <td>NaT</td>\n",
              "      <td>Arraignment: Complaint</td>\n",
              "      <td>Other</td>\n",
              "      <td>PAK</td>\n",
              "    </tr>\n",
              "    <tr>\n",
              "      <th>60</th>\n",
              "      <td>24CR34159</td>\n",
              "      <td>Department 3</td>\n",
              "      <td>NaT</td>\n",
              "      <td>Arraignment: Complaint</td>\n",
              "      <td>Other</td>\n",
              "      <td>PAK</td>\n",
              "    </tr>\n",
              "    <tr>\n",
              "      <th>62</th>\n",
              "      <td>24CR34157</td>\n",
              "      <td>Department 3</td>\n",
              "      <td>NaT</td>\n",
              "      <td>Arraignment: Complaint</td>\n",
              "      <td>Other</td>\n",
              "      <td>PAK</td>\n",
              "    </tr>\n",
              "    <tr>\n",
              "      <th>64</th>\n",
              "      <td>24CR34156</td>\n",
              "      <td>Department 1</td>\n",
              "      <td>NaT</td>\n",
              "      <td>Arraignment: Complaint</td>\n",
              "      <td>Other</td>\n",
              "      <td>WHITE</td>\n",
              "    </tr>\n",
              "    <tr>\n",
              "      <th>66</th>\n",
              "      <td>24CR34155</td>\n",
              "      <td>Department 3</td>\n",
              "      <td>NaT</td>\n",
              "      <td>Arraignment: Complaint</td>\n",
              "      <td>Other</td>\n",
              "      <td>PAK</td>\n",
              "    </tr>\n",
              "    <tr>\n",
              "      <th>67</th>\n",
              "      <td>24CR34155</td>\n",
              "      <td>Department 1</td>\n",
              "      <td>2024-09-18 08:30:00</td>\n",
              "      <td>Arraignment: Complaint</td>\n",
              "      <td>Other</td>\n",
              "      <td>WHITE</td>\n",
              "    </tr>\n",
              "    <tr>\n",
              "      <th>69</th>\n",
              "      <td>24CR34154</td>\n",
              "      <td>Department 3</td>\n",
              "      <td>NaT</td>\n",
              "      <td>Further Arraignment: Complaint</td>\n",
              "      <td>Other</td>\n",
              "      <td>PAK</td>\n",
              "    </tr>\n",
              "    <tr>\n",
              "      <th>70</th>\n",
              "      <td>24CR34154</td>\n",
              "      <td>Department 1</td>\n",
              "      <td>2024-09-18 08:30:00</td>\n",
              "      <td>Arraignment: Complaint</td>\n",
              "      <td>Heard</td>\n",
              "      <td>WHITE</td>\n",
              "    </tr>\n",
              "    <tr>\n",
              "      <th>72</th>\n",
              "      <td>24CR34153</td>\n",
              "      <td>Department 3</td>\n",
              "      <td>NaT</td>\n",
              "      <td>Further Arraignment: Complaint</td>\n",
              "      <td>Other</td>\n",
              "      <td>HERMANSON</td>\n",
              "    </tr>\n",
              "    <tr>\n",
              "      <th>73</th>\n",
              "      <td>24CR34153</td>\n",
              "      <td>Department 1</td>\n",
              "      <td>2024-09-12 13:30:00</td>\n",
              "      <td>Arraignment: Complaint</td>\n",
              "      <td>Heard</td>\n",
              "      <td>HERMANSON</td>\n",
              "    </tr>\n",
              "    <tr>\n",
              "      <th>75</th>\n",
              "      <td>24CR34152</td>\n",
              "      <td>Department 1</td>\n",
              "      <td>NaT</td>\n",
              "      <td>Arraignment: Complaint</td>\n",
              "      <td>Other</td>\n",
              "      <td>Syren</td>\n",
              "    </tr>\n",
              "    <tr>\n",
              "      <th>77</th>\n",
              "      <td>24CR34151</td>\n",
              "      <td>Department 3</td>\n",
              "      <td>NaT</td>\n",
              "      <td>Arraignment: Complaint</td>\n",
              "      <td>Other</td>\n",
              "      <td>PAK</td>\n",
              "    </tr>\n",
              "    <tr>\n",
              "      <th>79</th>\n",
              "      <td>24CR34150</td>\n",
              "      <td>Department 3</td>\n",
              "      <td>NaT</td>\n",
              "      <td>Arraignment: Complaint</td>\n",
              "      <td>Other</td>\n",
              "      <td>PAK</td>\n",
              "    </tr>\n",
              "    <tr>\n",
              "      <th>81</th>\n",
              "      <td>24CR34149</td>\n",
              "      <td>Department 3</td>\n",
              "      <td>NaT</td>\n",
              "      <td>Arraignment: Complaint</td>\n",
              "      <td>Other</td>\n",
              "      <td>PAK</td>\n",
              "    </tr>\n",
              "    <tr>\n",
              "      <th>83</th>\n",
              "      <td>24CR34148</td>\n",
              "      <td>Department 1</td>\n",
              "      <td>NaT</td>\n",
              "      <td>Arraignment: Complaint</td>\n",
              "      <td>Other</td>\n",
              "      <td>HERMANSON</td>\n",
              "    </tr>\n",
              "  </tbody>\n",
              "</table>\n",
              "</div>"
            ],
            "text/plain": [
              "      case_id      location                date  \\\n",
              "0   24CR34186  Department 3                 NaT   \n",
              "2   24CR34185  Department 3                 NaT   \n",
              "4   24CR34184  Department 1                 NaT   \n",
              "6   24CR34183  Department 3                 NaT   \n",
              "8   24CR34182  Department 3                 NaT   \n",
              "10  24CR34181  Department 3                 NaT   \n",
              "12  24CR34180  Department 3                 NaT   \n",
              "14  24CR34179  Department 3                 NaT   \n",
              "16  24CR34178  Department 3                 NaT   \n",
              "18  24CR34177  Department 3                 NaT   \n",
              "19  24CR34177  Department 1 2024-09-18 08:30:00   \n",
              "21  24CR34175  Department 3                 NaT   \n",
              "23  24CR34174  Department 1                 NaT   \n",
              "24  24CR34174  Department 1 2024-10-01 08:30:00   \n",
              "25  24CR34174  Department 1 2024-09-16 13:30:00   \n",
              "27  24CR34173  Department 1                 NaT   \n",
              "28  24CR34173  Department 1 2024-09-16 13:30:00   \n",
              "30  24CR34172  Department 1                 NaT   \n",
              "31  24CR34172  Department 1 2024-09-16 13:30:00   \n",
              "33  24CR34170  Department 1                 NaT   \n",
              "35  24CR34169  Department 1                 NaT   \n",
              "36  24CR34169  Department 1 2024-09-18 08:30:00   \n",
              "38  24CR34168  Department 1                 NaT   \n",
              "39  24CR34168  Department 1 2024-09-16 13:30:00   \n",
              "41  24CR34167  Department 3                 NaT   \n",
              "43  24CR34166  Department 3                 NaT   \n",
              "45  24CR34165  Department 3                 NaT   \n",
              "47  24CR34164  Department 3                 NaT   \n",
              "49  24CR34163  Department 1                 NaT   \n",
              "50  24CR34163  Department 1 2024-09-16 08:30:00   \n",
              "51  24CR34163  Department 2 2024-09-13 13:30:00   \n",
              "53  24CR34162  Department 1                 NaT   \n",
              "54  24CR34162  Department 1 2024-10-28 08:30:00   \n",
              "55  24CR34162  Department 1 2024-09-17 13:30:00   \n",
              "56  24CR34162  Department 2 2024-09-13 13:30:00   \n",
              "58  24CR34161  Department 3                 NaT   \n",
              "60  24CR34159  Department 3                 NaT   \n",
              "62  24CR34157  Department 3                 NaT   \n",
              "64  24CR34156  Department 1                 NaT   \n",
              "66  24CR34155  Department 3                 NaT   \n",
              "67  24CR34155  Department 1 2024-09-18 08:30:00   \n",
              "69  24CR34154  Department 3                 NaT   \n",
              "70  24CR34154  Department 1 2024-09-18 08:30:00   \n",
              "72  24CR34153  Department 3                 NaT   \n",
              "73  24CR34153  Department 1 2024-09-12 13:30:00   \n",
              "75  24CR34152  Department 1                 NaT   \n",
              "77  24CR34151  Department 3                 NaT   \n",
              "79  24CR34150  Department 3                 NaT   \n",
              "81  24CR34149  Department 3                 NaT   \n",
              "83  24CR34148  Department 1                 NaT   \n",
              "\n",
              "                                                 type result   official  \n",
              "0                              Arraignment: Complaint  Other        PAK  \n",
              "2                              Arraignment: Complaint  Other        PAK  \n",
              "4                              Arraignment: Complaint  Other      WHITE  \n",
              "6                              Arraignment: Complaint  Other        PAK  \n",
              "8                               Arraignment: Citation  Other        PAK  \n",
              "10                             Arraignment: Complaint  Other        PAK  \n",
              "12                              Arraignment: Citation  Other        PAK  \n",
              "14                             Arraignment: Complaint  Other        PAK  \n",
              "16                             Arraignment: Complaint  Other        PAK  \n",
              "18                     Further Arraignment: Complaint  Other        PAK  \n",
              "19                             Arraignment: Complaint  Heard      WHITE  \n",
              "21                             Arraignment: Complaint  Other        PAK  \n",
              "23                                         Pre Prelim  Other  HERMANSON  \n",
              "24                            Preliminary Examination  Other  HERMANSON  \n",
              "25                             Arraignment: Complaint  Other      WHITE  \n",
              "27                     Further Arraignment: Complaint  Other  HERMANSON  \n",
              "28                             Arraignment: Complaint  Heard      WHITE  \n",
              "30                     Further Arraignment: Complaint  Other  HERMANSON  \n",
              "31                             Arraignment: Complaint  Heard      WHITE  \n",
              "33                             Arraignment: Complaint  Other  HERMANSON  \n",
              "35                     Further Arraignment: Complaint  Other  HERMANSON  \n",
              "36                             Arraignment: Complaint  Heard      WHITE  \n",
              "38                      Preliminary Examination - NTW  Other  HERMANSON  \n",
              "39                             Arraignment: Complaint  Heard      WHITE  \n",
              "41                             Arraignment: Complaint  Other        PAK  \n",
              "43                              Arraignment: Citation  Other        PAK  \n",
              "45                              Arraignment: Citation  Other        PAK  \n",
              "47                             Arraignment: Complaint  Other        PAK  \n",
              "49                     Further Arraignment: Complaint  Other  HERMANSON  \n",
              "50  Further Arraignment: Complaint - & ISSUANCE OF...  Heard      WHITE  \n",
              "51                             Arraignment: Complaint  Heard        DAY  \n",
              "53                         Trial Readiness Conference  Other  HERMANSON  \n",
              "54                                         Jury Trial  Other  HERMANSON  \n",
              "55                     Further Arraignment: Complaint  Other      WHITE  \n",
              "56                             Arraignment: Complaint  Heard        DAY  \n",
              "58                             Arraignment: Complaint  Other        PAK  \n",
              "60                             Arraignment: Complaint  Other        PAK  \n",
              "62                             Arraignment: Complaint  Other        PAK  \n",
              "64                             Arraignment: Complaint  Other      WHITE  \n",
              "66                             Arraignment: Complaint  Other        PAK  \n",
              "67                             Arraignment: Complaint  Other      WHITE  \n",
              "69                     Further Arraignment: Complaint  Other        PAK  \n",
              "70                             Arraignment: Complaint  Heard      WHITE  \n",
              "72                     Further Arraignment: Complaint  Other  HERMANSON  \n",
              "73                             Arraignment: Complaint  Heard  HERMANSON  \n",
              "75                             Arraignment: Complaint  Other      Syren  \n",
              "77                             Arraignment: Complaint  Other        PAK  \n",
              "79                             Arraignment: Complaint  Other        PAK  \n",
              "81                             Arraignment: Complaint  Other        PAK  \n",
              "83                             Arraignment: Complaint  Other  HERMANSON  "
            ]
          },
          "execution_count": 13,
          "metadata": {},
          "output_type": "execute_result"
        }
      ],
      "source": [
        "events.head(50)"
      ]
    },
    {
      "cell_type": "markdown",
      "metadata": {
        "id": "iSgIRezpbCRB"
      },
      "source": [
        "## Charges"
      ]
    },
    {
      "cell_type": "code",
      "execution_count": 14,
      "metadata": {
        "colab": {
          "base_uri": "https://localhost:8080/"
        },
        "id": "kGYP1CtybgC5",
        "outputId": "7c6d448d-1e49-4c56-ac99-84f52e8fea2b"
      },
      "outputs": [
        {
          "name": "stderr",
          "output_type": "stream",
          "text": [
            "C:\\Users\\rubyc\\AppData\\Local\\Temp\\ipykernel_2448\\1030528905.py:2: FutureWarning: Downcasting behavior in `replace` is deprecated and will be removed in a future version. To retain the old behavior, explicitly call `result.infer_objects(copy=False)`. To opt-in to the future behavior, set `pd.set_option('future.no_silent_downcasting', True)`\n",
            "  df.replace(to_replace={\"\": np.nan}, inplace=True)\n"
          ]
        }
      ],
      "source": [
        "# Handle NA Columns\n",
        "charges = drop_empty(charges)\n",
        "charges.rename(columns={'case_name': 'charge'}, inplace=True)\n",
        "\n",
        "# Remove empty duplicate rows\n",
        "charges = charges[~(charges['charge'].isna() & charges['disposition'].isna())]\n",
        "\n",
        "# Remove names from Charge column\n",
        "charges = charges[~charges['charge'].str.match(r'^[A-Z\\s,]+(?:Jr)?$')]\n",
        "\n",
        "charges['disposition'] = charges['disposition'].str.split('; ', n=1).str[-1]\n",
        "\n",
        "# Extract the disposition text and a trailing date if present\n",
        "# The pattern matches any text followed by a date in MM/DD/YYYY format at the end\n",
        "extracted = charges['disposition'].str.extract(r'^(.*?)(\\d{2}/\\d{2}/\\d{4})$')\n",
        "\n",
        "# Assign the extracted date to a new column\n",
        "charges['disp_date'] = pd.to_datetime(extracted[1], errors='coerce')\n",
        "\n",
        "# If no date was found, fallback to original disposition; otherwise, use the extracted text\n",
        "charges['disposition'] = extracted[0].fillna(charges['disposition']).str.strip()"
      ]
    },
    {
      "cell_type": "markdown",
      "metadata": {
        "id": "7H-qO83skwyD"
      },
      "source": [
        "## Documents"
      ]
    },
    {
      "cell_type": "code",
      "execution_count": 15,
      "metadata": {
        "colab": {
          "base_uri": "https://localhost:8080/"
        },
        "id": "VYXgzJMbkwI-",
        "outputId": "7a89dcbe-e2df-4624-ecb8-ba9bdafde11e"
      },
      "outputs": [
        {
          "name": "stderr",
          "output_type": "stream",
          "text": [
            "C:\\Users\\rubyc\\AppData\\Local\\Temp\\ipykernel_2448\\1030528905.py:2: FutureWarning: Downcasting behavior in `replace` is deprecated and will be removed in a future version. To retain the old behavior, explicitly call `result.infer_objects(copy=False)`. To opt-in to the future behavior, set `pd.set_option('future.no_silent_downcasting', True)`\n",
            "  df.replace(to_replace={\"\": np.nan}, inplace=True)\n"
          ]
        }
      ],
      "source": [
        "# Handle NA Columns\n",
        "documents = drop_empty(documents)\n",
        "\n",
        "# Normalize Columns\n",
        "documents['filed_by'] = documents['filed_by'].str.split(' -', n=1).str[0]\n",
        "\n",
        "# Normalize Dates\n",
        "documents['filed_date'] = documents['filed_date'].str.extract(r'^(\\d{2}/\\d{2}/\\d{4})')\n",
        "documents['filed_date'] = pd.to_datetime(documents['filed_date'], errors='coerce', format='%m/%d/%Y')\n",
        "\n",
        "documents['tracking_date'] = documents['tracking_date'].str.extract(r'(\\d{2}/\\d{2}/\\d{4})')\n",
        "documents['tracking_date'] = pd.to_datetime(documents['tracking_date'], errors='coerce', format='%m/%d/%Y')\n",
        "\n",
        "# Retain rows with information\n",
        "documents = documents[~(documents['filed_date'].isna() & documents['filed_by'].isna() & documents['description'].isna() & documents['tracking_date'].isna())]\n",
        "\n",
        "# Indigent Defense Indicator\n",
        "oapd_mask = documents['description'].str.contains('OAPD', case=False, na=False)\n",
        "case_ids_with_oapd = documents.loc[oapd_mask, 'case_id'].unique()\n",
        "documents['indigent_defense'] = documents['case_id'].isin(case_ids_with_oapd)"
      ]
    },
    {
      "cell_type": "code",
      "execution_count": 16,
      "metadata": {
        "colab": {
          "base_uri": "https://localhost:8080/",
          "height": 313
        },
        "id": "nUn7FjBNDan1",
        "outputId": "98b9d631-fa66-4bb7-ba63-cbd2ea1bd5cf"
      },
      "outputs": [
        {
          "data": {
            "application/vnd.microsoft.datawrangler.viewer.v0+json": {
              "columns": [
                {
                  "name": "index",
                  "rawType": "int64",
                  "type": "integer"
                },
                {
                  "name": "case_id",
                  "rawType": "object",
                  "type": "string"
                },
                {
                  "name": "filed_date",
                  "rawType": "datetime64[ns]",
                  "type": "datetime"
                },
                {
                  "name": "description",
                  "rawType": "object",
                  "type": "string"
                },
                {
                  "name": "filed_by",
                  "rawType": "object",
                  "type": "string"
                },
                {
                  "name": "tracking_date",
                  "rawType": "datetime64[ns]",
                  "type": "datetime"
                },
                {
                  "name": "indigent_defense",
                  "rawType": "bool",
                  "type": "boolean"
                }
              ],
              "conversionMethod": "pd.DataFrame",
              "ref": "835f7e36-845a-4fbf-a211-e8a088c614f1",
              "rows": [
                [
                  "0",
                  "24CR34186",
                  null,
                  "Notice of Hearing",
                  "Clerk",
                  "2024-09-18 00:00:00",
                  "False"
                ],
                [
                  "1",
                  "24CR34186",
                  "2024-09-18 00:00:00",
                  "Peremptory Challenge",
                  "District Attorney",
                  null,
                  "False"
                ],
                [
                  "2",
                  "24CR34186",
                  "2024-09-18 00:00:00",
                  "Complaint",
                  "District Attorney",
                  "2024-09-18 00:00:00",
                  "False"
                ],
                [
                  "4",
                  "24CR34185",
                  null,
                  "Document: Other TBD",
                  "Clerk",
                  null,
                  "False"
                ],
                [
                  "5",
                  "24CR34185",
                  "2024-09-18 00:00:00",
                  "Complaint",
                  "District Attorney",
                  "2024-09-18 00:00:00",
                  "False"
                ]
              ],
              "shape": {
                "columns": 6,
                "rows": 5
              }
            },
            "text/html": [
              "<div>\n",
              "<style scoped>\n",
              "    .dataframe tbody tr th:only-of-type {\n",
              "        vertical-align: middle;\n",
              "    }\n",
              "\n",
              "    .dataframe tbody tr th {\n",
              "        vertical-align: top;\n",
              "    }\n",
              "\n",
              "    .dataframe thead th {\n",
              "        text-align: right;\n",
              "    }\n",
              "</style>\n",
              "<table border=\"1\" class=\"dataframe\">\n",
              "  <thead>\n",
              "    <tr style=\"text-align: right;\">\n",
              "      <th></th>\n",
              "      <th>case_id</th>\n",
              "      <th>filed_date</th>\n",
              "      <th>description</th>\n",
              "      <th>filed_by</th>\n",
              "      <th>tracking_date</th>\n",
              "      <th>indigent_defense</th>\n",
              "    </tr>\n",
              "  </thead>\n",
              "  <tbody>\n",
              "    <tr>\n",
              "      <th>0</th>\n",
              "      <td>24CR34186</td>\n",
              "      <td>NaT</td>\n",
              "      <td>Notice of Hearing</td>\n",
              "      <td>Clerk</td>\n",
              "      <td>2024-09-18</td>\n",
              "      <td>False</td>\n",
              "    </tr>\n",
              "    <tr>\n",
              "      <th>1</th>\n",
              "      <td>24CR34186</td>\n",
              "      <td>2024-09-18</td>\n",
              "      <td>Peremptory Challenge</td>\n",
              "      <td>District Attorney</td>\n",
              "      <td>NaT</td>\n",
              "      <td>False</td>\n",
              "    </tr>\n",
              "    <tr>\n",
              "      <th>2</th>\n",
              "      <td>24CR34186</td>\n",
              "      <td>2024-09-18</td>\n",
              "      <td>Complaint</td>\n",
              "      <td>District Attorney</td>\n",
              "      <td>2024-09-18</td>\n",
              "      <td>False</td>\n",
              "    </tr>\n",
              "    <tr>\n",
              "      <th>4</th>\n",
              "      <td>24CR34185</td>\n",
              "      <td>NaT</td>\n",
              "      <td>Document: Other TBD</td>\n",
              "      <td>Clerk</td>\n",
              "      <td>NaT</td>\n",
              "      <td>False</td>\n",
              "    </tr>\n",
              "    <tr>\n",
              "      <th>5</th>\n",
              "      <td>24CR34185</td>\n",
              "      <td>2024-09-18</td>\n",
              "      <td>Complaint</td>\n",
              "      <td>District Attorney</td>\n",
              "      <td>2024-09-18</td>\n",
              "      <td>False</td>\n",
              "    </tr>\n",
              "  </tbody>\n",
              "</table>\n",
              "</div>"
            ],
            "text/plain": [
              "     case_id filed_date           description           filed_by  \\\n",
              "0  24CR34186        NaT     Notice of Hearing              Clerk   \n",
              "1  24CR34186 2024-09-18  Peremptory Challenge  District Attorney   \n",
              "2  24CR34186 2024-09-18             Complaint  District Attorney   \n",
              "4  24CR34185        NaT   Document: Other TBD              Clerk   \n",
              "5  24CR34185 2024-09-18             Complaint  District Attorney   \n",
              "\n",
              "  tracking_date  indigent_defense  \n",
              "0    2024-09-18             False  \n",
              "1           NaT             False  \n",
              "2    2024-09-18             False  \n",
              "4           NaT             False  \n",
              "5    2024-09-18             False  "
            ]
          },
          "execution_count": 16,
          "metadata": {},
          "output_type": "execute_result"
        }
      ],
      "source": [
        "documents.head()"
      ]
    },
    {
      "cell_type": "code",
      "execution_count": 17,
      "metadata": {
        "colab": {
          "base_uri": "https://localhost:8080/",
          "height": 216
        },
        "id": "u8JI8rvXPgD8",
        "outputId": "0520646b-abad-417f-fdbb-704b74e91f2a"
      },
      "outputs": [
        {
          "data": {
            "text/plain": [
              "indigent_defense\n",
              "True     315787\n",
              "False    262081\n",
              "Name: count, dtype: int64"
            ]
          },
          "execution_count": 17,
          "metadata": {},
          "output_type": "execute_result"
        }
      ],
      "source": [
        "documents.indigent_defense.value_counts()"
      ]
    },
    {
      "cell_type": "markdown",
      "metadata": {
        "id": "mmKPkrmmEgGZ"
      },
      "source": [
        "## Bail"
      ]
    },
    {
      "cell_type": "code",
      "execution_count": 18,
      "metadata": {
        "colab": {
          "base_uri": "https://localhost:8080/"
        },
        "id": "OdMkkcd5E5Ia",
        "outputId": "4f9a42c8-01c2-4eef-97aa-8169f4585e04"
      },
      "outputs": [
        {
          "name": "stderr",
          "output_type": "stream",
          "text": [
            "C:\\Users\\rubyc\\AppData\\Local\\Temp\\ipykernel_2448\\1030528905.py:2: FutureWarning: Downcasting behavior in `replace` is deprecated and will be removed in a future version. To retain the old behavior, explicitly call `result.infer_objects(copy=False)`. To opt-in to the future behavior, set `pd.set_option('future.no_silent_downcasting', True)`\n",
            "  df.replace(to_replace={\"\": np.nan}, inplace=True)\n"
          ]
        }
      ],
      "source": [
        "# Handle NA Columns\n",
        "bail = drop_empty(bail)\n",
        "\n",
        "# Rename bail_date to set_date\n",
        "bail.rename(columns={'bail_date': 'set_date'}, inplace=True)\n",
        "\n",
        "# Extract the dollar amount and clean it up\n",
        "bail['amount'] = bail['bail_type_status'].str.extract(r'\\$(\\d[\\d,]*)\\.')\n",
        "bail['amount'] = bail['amount'].str.replace(',', '', regex=False)\n",
        "bail['amount'] = pd.to_numeric(bail['amount'], errors='coerce')\n",
        "# Extract posted_date\n",
        "bail['posted_date'] = bail['bail_type_status'].str.extract(r'Posted:\\s(\\d{2}/\\d{2}/\\d{4})')[0]\n",
        "\n",
        "# posted is True if \"posted\" is found and \"not posted\" is not found, case-insensitive\n",
        "bail['posted'] = (bail['bail_type_status'].str.contains('posted', case=False, na=False) &\n",
        "                  ~bail['bail_type_status'].str.contains('not posted', case=False, na=False))\n",
        "\n",
        "# Convert dates to datetime\n",
        "bail['set_date'] = pd.to_datetime(bail['set_date'], errors='coerce', format='%m/%d/%Y')\n",
        "bail['posted_date'] = pd.to_datetime(bail['posted_date'], errors='coerce', format='%m/%d/%Y')\n",
        "\n",
        "# Drop bail_type_status\n",
        "bail.drop(columns=['bail_type_status', 'bail_posted_by'], inplace=True)\n",
        "\n",
        "# Consolidate rows for same case_id\n",
        "bail = bail.groupby('case_id').agg({\n",
        "    'set_date': 'first',\n",
        "    'posted_date': 'first',\n",
        "    'amount': 'max',\n",
        "    'posted': 'max'\n",
        "}).reset_index()"
      ]
    },
    {
      "cell_type": "markdown",
      "metadata": {
        "id": "RxzXsYhoKB3W"
      },
      "source": [
        "## Probation"
      ]
    },
    {
      "cell_type": "code",
      "execution_count": 19,
      "metadata": {
        "colab": {
          "base_uri": "https://localhost:8080/"
        },
        "id": "3vNWASEYJ8k0",
        "outputId": "0340fd9a-df16-4fe0-8ff0-1cc0e1960f2f"
      },
      "outputs": [
        {
          "name": "stderr",
          "output_type": "stream",
          "text": [
            "C:\\Users\\rubyc\\AppData\\Local\\Temp\\ipykernel_2448\\1030528905.py:2: FutureWarning: Downcasting behavior in `replace` is deprecated and will be removed in a future version. To retain the old behavior, explicitly call `result.infer_objects(copy=False)`. To opt-in to the future behavior, set `pd.set_option('future.no_silent_downcasting', True)`\n",
            "  df.replace(to_replace={\"\": np.nan}, inplace=True)\n"
          ]
        }
      ],
      "source": [
        "# Handle NA Columns\n",
        "probation = drop_empty(probation)\n",
        "probation_data = probation.copy()\n",
        "\n",
        "# Assuming the format: \"Probation: (Formal|Summary) X (Months|Years) Granted on MM/DD/YYYY Imposed as of MM/DD/YYYY\"\n",
        "pattern = r'Probation:\\s+(?:Formal|Summary)\\s+(\\d+)\\s+(Months|Years)\\s+Granted\\s+on\\s+(\\d{2}/\\d{2}/\\d{4})\\s+Imposed\\s+as\\s+of\\s+(\\d{2}/\\d{2}/\\d{4})'\n",
        "\n",
        "extracted = probation_data['probation_conditions'].str.extract(pattern)\n",
        "\n",
        "# Convert duration to numeric, handle years by multiplying by 12\n",
        "extracted[0] = extracted[0].astype(float)\n",
        "extracted['probation_length'] = extracted.apply(lambda x: x[0]*12 if x[1] == 'Years' else x[0], axis=1)\n",
        "\n",
        "# Assign new columns from extracted data\n",
        "probation_data['probation_length'] = extracted['probation_length']\n",
        "probation_data['probation_granted_date'] = pd.to_datetime(extracted[2], errors='coerce', format='%m/%d/%Y')\n",
        "probation_data['probation_imposed_date'] = pd.to_datetime(extracted[3], errors='coerce', format='%m/%d/%Y')\n",
        "\n",
        "# Propagate these values to all rows of the same case_id\n",
        "probation_data[['probation_length', 'probation_granted_date', 'probation_imposed_date']] = (\n",
        "    probation_data.groupby('case_id')[['probation_length', 'probation_granted_date', 'probation_imposed_date']]\n",
        "    .transform(lambda grp: grp.ffill().bfill())\n",
        ")\n",
        "\n",
        "# Drop the original probation_conditions column now that we have new columns\n",
        "probation_data.drop(columns='probation_conditions', inplace=True)\n",
        "\n",
        "# Drop rows where probation_type starts with \"Defendant\"\n",
        "probation_data = probation_data[~probation_data['probation_type'].str.startswith('Defendant', na=False)]\n",
        "\n",
        "# Rename Columns\n",
        "probation_data.rename(columns={'probation_type': 'probation_conditions', 'probation_length': 'length_months', 'probation_granted_date': 'date_granted', 'probation_imposed_date': 'date_imposed'}, inplace=True)\n",
        "\n",
        "# Retain non-NA relevant rows for probation_condition where there are other rows for that same case id for with not na probation_conditions\n",
        "probation = probation_data[\n",
        "    ~(\n",
        "        probation_data['probation_conditions'].isna() &\n",
        "        probation_data.groupby('case_id')['probation_conditions'].transform('any').notna()\n",
        "    )\n",
        "]"
      ]
    },
    {
      "cell_type": "markdown",
      "metadata": {
        "id": "mv_OC-B2YvJy"
      },
      "source": [
        "## Consolidating, Ordering, and Finalizing"
      ]
    },
    {
      "cell_type": "code",
      "execution_count": 20,
      "metadata": {
        "colab": {
          "base_uri": "https://localhost:8080/"
        },
        "id": "ysbd1EEDYuMU",
        "outputId": "147d23e9-6448-4649-bf7e-eff6c41f3efc"
      },
      "outputs": [
        {
          "name": "stderr",
          "output_type": "stream",
          "text": [
            "C:\\Users\\rubyc\\AppData\\Local\\Temp\\ipykernel_2448\\341180305.py:3: FutureWarning: Downcasting object dtype arrays on .fillna, .ffill, .bfill is deprecated and will change in a future version. Call result.infer_objects(copy=False) instead. To opt-in to the future behavior, set `pd.set_option('future.no_silent_downcasting', True)`\n",
            "  cases['indigent_defense'] = cases['case_id'].map(indigent_defense_map).fillna(False).astype(bool)\n"
          ]
        }
      ],
      "source": [
        "# Swapping indigent defense indicator from documents to cases\n",
        "indigent_defense_map = documents.groupby('case_id')['indigent_defense'].any()\n",
        "cases['indigent_defense'] = cases['case_id'].map(indigent_defense_map).fillna(False).astype(bool)\n",
        "documents.drop(columns=['indigent_defense'], inplace=True)\n",
        "\n",
        "# Adding represented_by to cases merged on case_id from parties where type == 'Defendant'\n",
        "cases = pd.merge(cases, parties[parties['type'] == 'Defendant'][['case_id', 'represented_by']], on='case_id', how='left')\n",
        "parties.drop(columns='represented_by', inplace=True)\n",
        "\n",
        "# Reset indices of all data frames\n",
        "cases.reset_index(drop=True, inplace=True)\n",
        "parties.reset_index(drop=True, inplace=True)\n",
        "events.reset_index(drop=True, inplace=True)\n",
        "charges.reset_index(drop=True, inplace=True)\n",
        "documents.reset_index(drop=True, inplace=True)\n",
        "bail.reset_index(drop=True, inplace=True)\n",
        "probation.reset_index(drop=True, inplace=True)"
      ]
    },
    {
      "cell_type": "code",
      "execution_count": 21,
      "metadata": {
        "id": "Ziq8uIhSp9Ni"
      },
      "outputs": [],
      "source": [
        "# Standardizing Representation\n",
        "\n",
        "# Standardizing Representation\n",
        "representation_mapping = {\n",
        "    # Deduplication\n",
        "    \"ASBELL, APRIL ASBELL, APRIL\": \"ASBELL, APRIL\",\n",
        "    \"HOLBUS, JOHN W HOLBUS, JOHN W\": \"HOLBUS, JOHN W\",\n",
        "    \"SEATON, JEFFREY SEATON, JEFFREY\": \"SEATON, JEFFREY\",\n",
        "    \"CRAMER, DAVID JEFFREY CRAMER, DAVID JEFFREY\": \"CRAMER, DAVID JEFFREY\",\n",
        "\n",
        "    # Multi-Name Consolidation\n",
        "    \"ASBELL, APRIL FLEMING, LEIGH\": \"ASBELL, APRIL; FLEMING, LEIGH\",\n",
        "    \"FLEMING, LEIGH ASBELL, APRIL\": \"ASBELL, APRIL; FLEMING, LEIGH\",\n",
        "    \"SCOTT, APRIL FLEMING, LEIGH\": \"SCOTT, APRIL; FLEMING, LEIGH\",\n",
        "    \"SCOTT, APRIL ADAMSON, KEVIN FLEMING, LEIGH ADAMSON, KEVIN\": \"SCOTT, APRIL; FLEMING, LEIGH; ADAMSON, KEVIN\",\n",
        "    \"FLEMING, LEIGH ASBELL, APRIL DAWN\": \"ASBELL, APRIL; FLEMING, LEIGH\",\n",
        "    \"ASBELL, APRIL DAWN FLEMING, LEIGH\": \"ASBELL, APRIL; FLEMING, LEIGH\",\n",
        "\n",
        "    # Case Sensitivity\n",
        "    \"Lindemann, Callie\": \"LINDEMANN, CALLIE\",\n",
        "\n",
        "    # Firm Overlaps\n",
        "    \"CIUMMO, RICHARD A FITZGERALD ALVAREZ & CIUMMO\": \"FITZGERALD ALVAREZ & CIUMMO\",\n",
        "    \"SCHELL, ROBERT CHARLES FITZGERALD ALVAREZ & CIUMMO\": \"FITZGERALD ALVAREZ & CIUMMO\",\n",
        "\n",
        "    # Firm Variations\n",
        "    \"FITZGERALD ALVAREZ & CIUMMO FITZGERALD ALVAREZ & CIUMMO\": \"FITZGERALD ALVAREZ & CIUMMO\",\n",
        "    \"FITZGERALD, ALVAREZ AND CIUMMO\": \"FITZGERALD ALVAREZ & CIUMMO\",\n",
        "    \"FITZGERALD, ALVAREZ AND CUIMMO\": \"FITZGERALD ALVAREZ & CIUMMO\",\n",
        "    \"FITZGERALD ALVAREZ & CUIMMO\": \"FITZGERALD ALVAREZ & CIUMMO\",\n",
        "\n",
        "    # Misspellings\n",
        "    \"WEINER, DAIN WEINER, DAVIA\": \"WEINER, DAIN\",\n",
        "    \"TIEMANN, ROLAND X BEREZIN, MICHAEL\": \"TIEMANN, ROLAND X; BEREZIN, MICHAEL\",\n",
        "    \"TIEMANN, ROLAND X CIUMMO, RICHARD A\": \"TIEMANN, ROLAND X; CIUMMO, RICHARD A\",\n",
        "    \"BARKER, JOHN A CIUMMO, RICHARD A\": \"CIUMMO, RICHARD A; BARKER, JOHN A\",\n",
        "    \"CIUMMO, RICHARD A BARKER, JOHN A\": \"CIUMMO, RICHARD A; BARKER, JOHN A\",\n",
        "    \"CRAMER, DAVID JEFFREY FITZGERALD ALVAREZ & CIUMMO\": \"FITZGERALD ALVAREZ & CIUMMO; CRAMER, DAVID JEFFREY\",\n",
        "    \"FLEMING, LEIGH FITZGERALD ALVAREZ & CIUMMO\": \"FITZGERALD ALVAREZ & CIUMMO; FLEMING, LEIGH\",\n",
        "    \"WEINER, DAIN WEINER, DAVID\": \"WEINER, DAIN; WEINER, DAVID\",\n",
        "    \"SCOTT, APRIL; FLEMING, LEIGH\": \"SCOTT, APRIL; FLEMING, LEIGH\",\n",
        "    \"SCOTT, APRIL; FLEMING, LEIGH; ADAMSON, KEVIN\": \"SCOTT, APRIL; FLEMING, LEIGH; ADAMSON, KEVIN\",\n",
        "}\n",
        "\n",
        "# Apply the mapping to the 'represented_by' column\n",
        "cases['represented_by'] = cases['represented_by'].replace(representation_mapping)"
      ]
    },
    {
      "cell_type": "code",
      "execution_count": null,
      "metadata": {},
      "outputs": [],
      "source": [
        "keyword_dict = {\n",
        "    \"PD\": ['FITZGERALD ALVAREZ & CIUMMO', 'PUBLIC DEFENDER', \"CIUMMO, RICHARD A\"],\n",
        "    \"Wheel\": [\"ASBELL, APRIL\", \"FLEMING, LEIGH\", \"LINDEMANN, CALLIE\", \"CRAMER, DAVID JEFFREY\"]\n",
        "}\n",
        "\n",
        "def pd_sort(df): \n",
        "\n",
        "    # Helper function for keyword matching\n",
        "    def match_keywords(text, keyword_dict):\n",
        "        for category, keywords in keyword_dict.items():\n",
        "            if pd.notnull(text) and any(keyword in text for keyword in keywords):\n",
        "                return category\n",
        "        return None\n",
        "\n",
        "    # Process each row\n",
        "    def process_row(row):\n",
        "        pd_status = \"Unknown\"\n",
        "        \n",
        "        if pd.notnull(row['represented_by']):\n",
        "            pd_status = match_keywords(row['represented_by'], keyword_dict) or None\n",
        "        else:\n",
        "            pd_status = None\n",
        "\n",
        "        return pd_status\n",
        "\n",
        "    # Apply the processing function\n",
        "    df[['pd_status']] = df.apply(lambda row: pd.Series(process_row(row)), axis=1)\n",
        "\n",
        "    return df\n"
      ]
    },
    {
      "cell_type": "code",
      "execution_count": 47,
      "metadata": {},
      "outputs": [
        {
          "data": {
            "application/vnd.microsoft.datawrangler.viewer.v0+json": {
              "columns": [
                {
                  "name": "index",
                  "rawType": "int64",
                  "type": "integer"
                },
                {
                  "name": "case_id",
                  "rawType": "object",
                  "type": "string"
                },
                {
                  "name": "case_name",
                  "rawType": "object",
                  "type": "string"
                },
                {
                  "name": "filing_date",
                  "rawType": "datetime64[ns]",
                  "type": "datetime"
                },
                {
                  "name": "location",
                  "rawType": "object",
                  "type": "string"
                },
                {
                  "name": "case_type",
                  "rawType": "object",
                  "type": "string"
                },
                {
                  "name": "category",
                  "rawType": "object",
                  "type": "string"
                },
                {
                  "name": "status",
                  "rawType": "object",
                  "type": "unknown"
                },
                {
                  "name": "update_date",
                  "rawType": "datetime64[ns]",
                  "type": "datetime"
                },
                {
                  "name": "indigent_defense",
                  "rawType": "bool",
                  "type": "boolean"
                },
                {
                  "name": "represented_by",
                  "rawType": "object",
                  "type": "unknown"
                },
                {
                  "name": "pd_status",
                  "rawType": "object",
                  "type": "unknown"
                }
              ],
              "conversionMethod": "pd.DataFrame",
              "ref": "02846bc2-fb11-4e93-b08f-f636ff748fdb",
              "rows": [
                [
                  "0",
                  "24CR34186",
                  "People vs. YESSENIA ESCOBAR ROCHA",
                  "2024-09-18 00:00:00",
                  "Criminal/Traffic",
                  "Misdemeanor",
                  "Misdemeanor: Drug Offense",
                  "Open",
                  null,
                  "False",
                  null,
                  null
                ],
                [
                  "1",
                  "24CR34185",
                  "People vs. CESAR JUNIOR MORENO, Jr",
                  "2024-09-18 00:00:00",
                  "Criminal/Traffic",
                  "Misdemeanor",
                  "Misdemeanor: DUI",
                  "Open",
                  null,
                  "False",
                  null,
                  null
                ],
                [
                  "2",
                  "24CR34184",
                  "People vs. COURTNEY JONATHAN GARLAND",
                  "2024-09-18 00:00:00",
                  "Criminal/Traffic",
                  "Misdemeanor",
                  "Misdemeanor: Non Traffic/Ordinance",
                  "Open",
                  null,
                  "False",
                  null,
                  null
                ],
                [
                  "3",
                  "24CR34183",
                  "People vs. BENJAMIN WILSON HOLCOMB",
                  "2024-09-17 00:00:00",
                  "Criminal/Traffic",
                  "Misdemeanor",
                  "Misdemeanor: Traffic Other",
                  "Open",
                  null,
                  "False",
                  null,
                  null
                ],
                [
                  "4",
                  "24CR34182",
                  "People vs. JOSHUA JAMES BANNON",
                  "2024-09-17 00:00:00",
                  "Criminal/Traffic",
                  "Misdemeanor",
                  "Misdemeanor: 14601VC",
                  "Open",
                  null,
                  "False",
                  null,
                  null
                ],
                [
                  "5",
                  "24CR34181",
                  "People vs. RICHARD EDWARD CARRILLO, II",
                  "2024-09-17 00:00:00",
                  "Criminal/Traffic",
                  "Misdemeanor",
                  "Misdemeanor: 14601VC",
                  "Open",
                  null,
                  "False",
                  null,
                  null
                ],
                [
                  "6",
                  "24CR34180",
                  "People vs. PATRICK MICHEAL BEJARANO",
                  "2024-09-17 00:00:00",
                  "Criminal/Traffic",
                  "Misdemeanor",
                  "Misdemeanor: 14601VC",
                  "Open",
                  null,
                  "False",
                  null,
                  null
                ],
                [
                  "7",
                  "24CR34179",
                  "People vs. MICHAEL KEITH BREWER",
                  "2024-09-17 00:00:00",
                  "Criminal/Traffic",
                  "Misdemeanor",
                  "Misdemeanor: DUI",
                  "Open",
                  null,
                  "False",
                  null,
                  null
                ],
                [
                  "8",
                  "24CR34178",
                  "People vs. DANIEL LELAND HAWKINS",
                  "2024-09-17 00:00:00",
                  "Criminal/Traffic",
                  "Misdemeanor",
                  "Misdemeanor: DUI",
                  "Open",
                  null,
                  "False",
                  null,
                  null
                ],
                [
                  "9",
                  "24CR34177",
                  "People vs. JEREMY KENDRICK HOLSTINE",
                  "2024-09-17 00:00:00",
                  "Criminal/Traffic",
                  "Misdemeanor",
                  "Misdemeanor: Non Traffic/Ordinance",
                  "Open",
                  null,
                  "False",
                  "SEATON, JEFFREY",
                  null
                ],
                [
                  "10",
                  "24CR34176",
                  "People vs. MARIE ELAINE REESE",
                  "2024-09-16 00:00:00",
                  "Criminal/Traffic",
                  "Felony",
                  "Felony: Other",
                  "Conviction — Nolo Plea",
                  "2023-10-27 00:00:00",
                  "False",
                  null,
                  null
                ],
                [
                  "11",
                  "24CR34175",
                  "People vs. STEVEN JEFFREY LOCKEN",
                  "2024-09-16 00:00:00",
                  "Criminal/Traffic",
                  "Misdemeanor",
                  "Misdemeanor: Assault and Battery",
                  "Open",
                  null,
                  "False",
                  null,
                  null
                ],
                [
                  "12",
                  "24CR34174",
                  "People vs. GERALD EUGENE SMITH, Jr",
                  "2024-09-16 00:00:00",
                  "Criminal/Traffic",
                  "Felony",
                  "Felony: Assault",
                  "Open",
                  null,
                  "False",
                  null,
                  null
                ],
                [
                  "13",
                  "24CR34173",
                  "People vs. DAVID THOMAS HAMPTON",
                  "2024-09-16 00:00:00",
                  "Criminal/Traffic",
                  "Misdemeanor",
                  "Misdemeanor: Non Traffic/Ordinance",
                  "Open",
                  null,
                  "False",
                  null,
                  null
                ],
                [
                  "14",
                  "24CR34172",
                  "People vs. TAYLOR ACE FASSETT",
                  "2024-09-16 00:00:00",
                  "Criminal/Traffic",
                  "Felony",
                  "Felony: Assault",
                  "Open",
                  null,
                  "False",
                  "FITZGERALD ALVAREZ & CIUMMO",
                  "PD"
                ],
                [
                  "15",
                  "24CR34171",
                  "People vs. JONATHAN HUNTER MORRIS",
                  "2024-09-13 00:00:00",
                  "Criminal/Traffic",
                  "Felony",
                  "Felony: Assault",
                  "Open",
                  null,
                  "False",
                  null,
                  null
                ],
                [
                  "16",
                  "24CR34170",
                  "People vs. SHAYNE HAWKE NICHOLAS",
                  "2024-09-12 00:00:00",
                  "Criminal/Traffic",
                  "Felony",
                  "Felony: Property Offense",
                  "Open",
                  null,
                  "False",
                  null,
                  null
                ],
                [
                  "17",
                  "24CR34169",
                  "People vs. CARLOS ROBERTO GONZALEZVAZQUEZ",
                  "2024-09-12 00:00:00",
                  "Criminal/Traffic",
                  "Misdemeanor",
                  "Misdemeanor: DUI",
                  "Open",
                  null,
                  "False",
                  "FITZGERALD ALVAREZ & CIUMMO",
                  "PD"
                ],
                [
                  "18",
                  "24CR34168",
                  "People vs. JORDAN MICHAEL MOLESWORTH",
                  "2024-09-13 00:00:00",
                  "Criminal/Traffic",
                  "Felony",
                  "Felony: Assault",
                  "Open",
                  null,
                  "False",
                  "FITZGERALD ALVAREZ & CIUMMO",
                  "PD"
                ],
                [
                  "19",
                  "24CR34167",
                  "People vs. DONNIE EARL COVER",
                  "2024-09-12 00:00:00",
                  "Criminal/Traffic",
                  "Misdemeanor",
                  "Misdemeanor: Non Traffic/Ordinance",
                  "Open",
                  null,
                  "False",
                  null,
                  null
                ],
                [
                  "20",
                  "24CR34166",
                  "People vs. JESUS D FRAGAALBOR",
                  "2024-09-12 00:00:00",
                  "Criminal/Traffic",
                  "Misdemeanor",
                  "Misdemeanor: Non Traffic/Ordinance",
                  "Open",
                  null,
                  "False",
                  null,
                  null
                ],
                [
                  "21",
                  "24CR34165",
                  "People vs. JENDY ACOSTADEMORA",
                  "2024-09-12 00:00:00",
                  "Criminal/Traffic",
                  "Misdemeanor",
                  "Misdemeanor: Non Traffic/Ordinance",
                  "Open",
                  null,
                  "False",
                  null,
                  null
                ],
                [
                  "22",
                  "24CR34164",
                  "People vs. CRYSTAL LYNNE LAPRADE",
                  "2024-09-12 00:00:00",
                  "Criminal/Traffic",
                  "Misdemeanor",
                  "Misdemeanor: Non Traffic/Ordinance",
                  "Open",
                  null,
                  "False",
                  null,
                  null
                ],
                [
                  "23",
                  "24CR34163",
                  "People vs. COURTNEY JONATHAN GARLAND",
                  "2024-09-13 00:00:00",
                  "Criminal/Traffic",
                  "Felony",
                  "Felony: Assault",
                  "Open",
                  null,
                  "False",
                  "FITZGERALD ALVAREZ & CIUMMO",
                  "PD"
                ],
                [
                  "24",
                  "24CR34162",
                  "People vs. JERRY PINSONEAULT, Jr",
                  "2024-09-13 00:00:00",
                  "Criminal/Traffic",
                  "Misdemeanor",
                  "Misdemeanor: Assault and Battery",
                  "Open",
                  null,
                  "False",
                  "FITZGERALD ALVAREZ & CIUMMO",
                  "PD"
                ],
                [
                  "25",
                  "24CR34161",
                  "People vs. MICHAEL TODD MUNSON",
                  "2024-09-12 00:00:00",
                  "Criminal/Traffic",
                  "Misdemeanor",
                  "Misdemeanor: DUI",
                  "Open",
                  null,
                  "False",
                  null,
                  null
                ],
                [
                  "26",
                  "24CR34159",
                  "People vs. LUIS ANTONIO ALVEREZ",
                  "2024-09-12 00:00:00",
                  "Criminal/Traffic",
                  "Misdemeanor",
                  "Misdemeanor: Non Traffic/Ordinance",
                  "Open",
                  null,
                  "False",
                  null,
                  null
                ],
                [
                  "27",
                  "24CR34157",
                  "People vs. CASEY MICHAEL CURTIN",
                  "2024-09-12 00:00:00",
                  "Criminal/Traffic",
                  "Misdemeanor",
                  "Misdemeanor: DUI",
                  "Open",
                  null,
                  "False",
                  null,
                  null
                ],
                [
                  "28",
                  "24CR34156",
                  "People vs. FLORENCIO GARCIA",
                  "2024-09-12 00:00:00",
                  "Criminal/Traffic",
                  "Misdemeanor",
                  "Misdemeanor: DUI",
                  "Open",
                  null,
                  "False",
                  null,
                  null
                ],
                [
                  "29",
                  "24CR34155",
                  "People vs. JOSEPH WILLIAM FARIA",
                  "2024-09-12 00:00:00",
                  "Criminal/Traffic",
                  "Misdemeanor",
                  "Misdemeanor: Assault and Battery",
                  "Open",
                  null,
                  "False",
                  null,
                  null
                ],
                [
                  "30",
                  "24CR34154",
                  "People vs. DAVID EUGENE CARPENTER",
                  "2024-09-12 00:00:00",
                  "Criminal/Traffic",
                  "Misdemeanor",
                  "Misdemeanor: DUI",
                  "Open",
                  null,
                  "False",
                  "FITZGERALD ALVAREZ & CIUMMO",
                  "PD"
                ],
                [
                  "31",
                  "24CR34153",
                  "People vs. DAVID THOMAS HAMPTON",
                  "2024-09-12 00:00:00",
                  "Criminal/Traffic",
                  "Misdemeanor",
                  "Misdemeanor: Assault and Battery",
                  "Open",
                  null,
                  "False",
                  "FITZGERALD ALVAREZ & CIUMMO",
                  "PD"
                ],
                [
                  "32",
                  "24CR34152",
                  "People vs. CHAN SAECHAO",
                  "2024-09-11 00:00:00",
                  "Criminal/Traffic",
                  "Felony",
                  "Felony: Assault",
                  "Open",
                  null,
                  "False",
                  null,
                  null
                ],
                [
                  "33",
                  "24CR34151",
                  "People vs. DAMIEN ELDRIDGE ROBINSON",
                  "2024-09-11 00:00:00",
                  "Criminal/Traffic",
                  "Misdemeanor",
                  "Misdemeanor: DUI",
                  "Open",
                  null,
                  "False",
                  null,
                  null
                ],
                [
                  "34",
                  "24CR34150",
                  "People vs. NICHOLAS ANGELO SMITH",
                  "2024-09-11 00:00:00",
                  "Criminal/Traffic",
                  "Misdemeanor",
                  "Misdemeanor: Assault and Battery",
                  "Open",
                  null,
                  "False",
                  null,
                  null
                ],
                [
                  "35",
                  "24CR34149",
                  "People vs. STEPHANIE MICHELLE TURPEN",
                  "2024-09-11 00:00:00",
                  "Criminal/Traffic",
                  "Misdemeanor",
                  "Misdemeanor: Property Offense",
                  "Open",
                  null,
                  "False",
                  null,
                  null
                ],
                [
                  "36",
                  "24CR34148",
                  "People vs. ARTURO BALLESTEROS",
                  "2024-09-11 00:00:00",
                  "Criminal/Traffic",
                  "Felony",
                  "Felony: Other",
                  "Open",
                  null,
                  "False",
                  null,
                  null
                ],
                [
                  "37",
                  "24CR34147",
                  "People vs. DEREK SCOTT TYNES",
                  "2024-09-11 00:00:00",
                  "Criminal/Traffic",
                  "Misdemeanor",
                  "Misdemeanor: Assault and Battery",
                  "Open",
                  null,
                  "False",
                  "FITZGERALD ALVAREZ & CIUMMO",
                  "PD"
                ],
                [
                  "38",
                  "24CR34146",
                  "People vs. DAVID JAMES KUHLMANN",
                  "2024-09-11 00:00:00",
                  "Criminal/Traffic",
                  "Felony",
                  "Felony: Property Offense",
                  "Open",
                  null,
                  "False",
                  "FITZGERALD ALVAREZ & CIUMMO",
                  "PD"
                ],
                [
                  "39",
                  "24CR34145",
                  "People vs. DARIAN RAY KEELING",
                  "2024-09-11 00:00:00",
                  "Criminal/Traffic",
                  "Felony",
                  "Felony: Other",
                  "Open",
                  null,
                  "False",
                  "SEATON, JEFFREY",
                  null
                ],
                [
                  "40",
                  "24CR34144",
                  "People vs. MARC ALLEN HOLOCKER",
                  "2024-09-10 00:00:00",
                  "Criminal/Traffic",
                  "Felony",
                  "Felony: Other",
                  "Open",
                  null,
                  "False",
                  "FITZGERALD ALVAREZ & CIUMMO",
                  "PD"
                ],
                [
                  "41",
                  "24CR34143",
                  "People vs. SEOK HOON PARK",
                  "2024-09-09 00:00:00",
                  "Criminal/Traffic",
                  "Misdemeanor",
                  "Misdemeanor: Assault and Battery",
                  "Open",
                  null,
                  "False",
                  null,
                  null
                ],
                [
                  "42",
                  "24CR34142",
                  "People vs. JENNIFER CAROLINE LEMOS",
                  "2024-09-09 00:00:00",
                  "Criminal/Traffic",
                  "Felony",
                  "Felony: Other",
                  "Open",
                  null,
                  "False",
                  "ASBELL, APRIL; FLEMING, LEIGH",
                  "Wheel"
                ],
                [
                  "43",
                  "24CR34141",
                  "People vs. SIERRA DAWN MARTIN",
                  "2024-09-09 00:00:00",
                  "Criminal/Traffic",
                  "Felony",
                  "Felony: Property Offense",
                  "Open",
                  null,
                  "False",
                  "FITZGERALD ALVAREZ & CIUMMO",
                  "PD"
                ],
                [
                  "44",
                  "24CR34139",
                  "People vs. MELODY FAITH GLORIOSO",
                  "2024-09-09 00:00:00",
                  "Criminal/Traffic",
                  "Misdemeanor",
                  "Misdemeanor: Assault and Battery",
                  "Open",
                  null,
                  "False",
                  "FITZGERALD ALVAREZ & CIUMMO",
                  "PD"
                ],
                [
                  "45",
                  "24CR34138",
                  "People vs. CRUISE SANTIAGO",
                  "2024-09-05 00:00:00",
                  "Criminal/Traffic",
                  "Misdemeanor",
                  "Misdemeanor: DUI",
                  "Open",
                  null,
                  "False",
                  null,
                  null
                ],
                [
                  "46",
                  "24CR34136",
                  "People vs. ALICIA HELENE LENIHAN",
                  "2024-09-06 00:00:00",
                  "Criminal/Traffic",
                  "Misdemeanor",
                  "Misdemeanor: Drug Offense",
                  "Open",
                  null,
                  "False",
                  "FITZGERALD ALVAREZ & CIUMMO",
                  "PD"
                ],
                [
                  "47",
                  "24CR34135",
                  "People vs. SPENCER EDMOND BELL",
                  "2024-09-05 00:00:00",
                  "Criminal/Traffic",
                  "Misdemeanor",
                  "Misdemeanor: Drug Offense",
                  "Open",
                  null,
                  "False",
                  null,
                  null
                ],
                [
                  "48",
                  "24CR34134",
                  "People vs. CHAUNCEY KATHRIN ELIZABETH CHAMBERS",
                  "2024-09-05 00:00:00",
                  "Criminal/Traffic",
                  "Misdemeanor",
                  "Misdemeanor: Drug Offense",
                  "Open",
                  null,
                  "False",
                  null,
                  null
                ],
                [
                  "49",
                  "24CR34133",
                  "People vs. LINDSEY ANNETTE GANDY",
                  "2024-09-05 00:00:00",
                  "Criminal/Traffic",
                  "Misdemeanor",
                  "Misdemeanor: Drug Offense",
                  "Open",
                  null,
                  "False",
                  "FITZGERALD ALVAREZ & CIUMMO",
                  "PD"
                ]
              ],
              "shape": {
                "columns": 11,
                "rows": 33552
              }
            },
            "text/html": [
              "<div>\n",
              "<style scoped>\n",
              "    .dataframe tbody tr th:only-of-type {\n",
              "        vertical-align: middle;\n",
              "    }\n",
              "\n",
              "    .dataframe tbody tr th {\n",
              "        vertical-align: top;\n",
              "    }\n",
              "\n",
              "    .dataframe thead th {\n",
              "        text-align: right;\n",
              "    }\n",
              "</style>\n",
              "<table border=\"1\" class=\"dataframe\">\n",
              "  <thead>\n",
              "    <tr style=\"text-align: right;\">\n",
              "      <th></th>\n",
              "      <th>case_id</th>\n",
              "      <th>case_name</th>\n",
              "      <th>filing_date</th>\n",
              "      <th>location</th>\n",
              "      <th>case_type</th>\n",
              "      <th>category</th>\n",
              "      <th>status</th>\n",
              "      <th>update_date</th>\n",
              "      <th>indigent_defense</th>\n",
              "      <th>represented_by</th>\n",
              "      <th>pd_status</th>\n",
              "    </tr>\n",
              "  </thead>\n",
              "  <tbody>\n",
              "    <tr>\n",
              "      <th>0</th>\n",
              "      <td>24CR34186</td>\n",
              "      <td>People vs. YESSENIA ESCOBAR ROCHA</td>\n",
              "      <td>2024-09-18</td>\n",
              "      <td>Criminal/Traffic</td>\n",
              "      <td>Misdemeanor</td>\n",
              "      <td>Misdemeanor: Drug Offense</td>\n",
              "      <td>Open</td>\n",
              "      <td>NaT</td>\n",
              "      <td>False</td>\n",
              "      <td>NaN</td>\n",
              "      <td>NaN</td>\n",
              "    </tr>\n",
              "    <tr>\n",
              "      <th>1</th>\n",
              "      <td>24CR34185</td>\n",
              "      <td>People vs. CESAR JUNIOR MORENO, Jr</td>\n",
              "      <td>2024-09-18</td>\n",
              "      <td>Criminal/Traffic</td>\n",
              "      <td>Misdemeanor</td>\n",
              "      <td>Misdemeanor: DUI</td>\n",
              "      <td>Open</td>\n",
              "      <td>NaT</td>\n",
              "      <td>False</td>\n",
              "      <td>NaN</td>\n",
              "      <td>NaN</td>\n",
              "    </tr>\n",
              "    <tr>\n",
              "      <th>2</th>\n",
              "      <td>24CR34184</td>\n",
              "      <td>People vs. COURTNEY JONATHAN GARLAND</td>\n",
              "      <td>2024-09-18</td>\n",
              "      <td>Criminal/Traffic</td>\n",
              "      <td>Misdemeanor</td>\n",
              "      <td>Misdemeanor: Non Traffic/Ordinance</td>\n",
              "      <td>Open</td>\n",
              "      <td>NaT</td>\n",
              "      <td>False</td>\n",
              "      <td>NaN</td>\n",
              "      <td>NaN</td>\n",
              "    </tr>\n",
              "    <tr>\n",
              "      <th>3</th>\n",
              "      <td>24CR34183</td>\n",
              "      <td>People vs. BENJAMIN WILSON HOLCOMB</td>\n",
              "      <td>2024-09-17</td>\n",
              "      <td>Criminal/Traffic</td>\n",
              "      <td>Misdemeanor</td>\n",
              "      <td>Misdemeanor: Traffic Other</td>\n",
              "      <td>Open</td>\n",
              "      <td>NaT</td>\n",
              "      <td>False</td>\n",
              "      <td>NaN</td>\n",
              "      <td>NaN</td>\n",
              "    </tr>\n",
              "    <tr>\n",
              "      <th>4</th>\n",
              "      <td>24CR34182</td>\n",
              "      <td>People vs. JOSHUA JAMES BANNON</td>\n",
              "      <td>2024-09-17</td>\n",
              "      <td>Criminal/Traffic</td>\n",
              "      <td>Misdemeanor</td>\n",
              "      <td>Misdemeanor: 14601VC</td>\n",
              "      <td>Open</td>\n",
              "      <td>NaT</td>\n",
              "      <td>False</td>\n",
              "      <td>NaN</td>\n",
              "      <td>NaN</td>\n",
              "    </tr>\n",
              "    <tr>\n",
              "      <th>...</th>\n",
              "      <td>...</td>\n",
              "      <td>...</td>\n",
              "      <td>...</td>\n",
              "      <td>...</td>\n",
              "      <td>...</td>\n",
              "      <td>...</td>\n",
              "      <td>...</td>\n",
              "      <td>...</td>\n",
              "      <td>...</td>\n",
              "      <td>...</td>\n",
              "      <td>...</td>\n",
              "    </tr>\n",
              "    <tr>\n",
              "      <th>33547</th>\n",
              "      <td>02-CR-01806</td>\n",
              "      <td>People vs. LOLA BELL TURLEY</td>\n",
              "      <td>2002-05-29</td>\n",
              "      <td>Criminal/Traffic</td>\n",
              "      <td>Misdemeanor</td>\n",
              "      <td>Misdemeanor: 14601VC</td>\n",
              "      <td>Conviction — Nolo Plea</td>\n",
              "      <td>2005-03-09</td>\n",
              "      <td>False</td>\n",
              "      <td>NaN</td>\n",
              "      <td>NaN</td>\n",
              "    </tr>\n",
              "    <tr>\n",
              "      <th>33548</th>\n",
              "      <td>02-CR-01805</td>\n",
              "      <td>People vs. THOMAS OTTO MOSELEY</td>\n",
              "      <td>2002-05-29</td>\n",
              "      <td>Criminal/Traffic</td>\n",
              "      <td>Misdemeanor</td>\n",
              "      <td>Misdemeanor: 14601VC</td>\n",
              "      <td>Dismissed</td>\n",
              "      <td>2002-08-28</td>\n",
              "      <td>False</td>\n",
              "      <td>NaN</td>\n",
              "      <td>NaN</td>\n",
              "    </tr>\n",
              "    <tr>\n",
              "      <th>33549</th>\n",
              "      <td>06-CR-11297</td>\n",
              "      <td>People vs. TROY TOWNER</td>\n",
              "      <td>2006-09-25</td>\n",
              "      <td>Criminal/Traffic</td>\n",
              "      <td>Misdemeanor</td>\n",
              "      <td>Misdemeanor: DUI</td>\n",
              "      <td>Dismissed</td>\n",
              "      <td>2006-10-16</td>\n",
              "      <td>False</td>\n",
              "      <td>NaN</td>\n",
              "      <td>NaN</td>\n",
              "    </tr>\n",
              "    <tr>\n",
              "      <th>33550</th>\n",
              "      <td>06-CR-11342</td>\n",
              "      <td>People vs. RICH JAMES TELLER</td>\n",
              "      <td>2006-10-05</td>\n",
              "      <td>Criminal/Traffic</td>\n",
              "      <td>Misdemeanor</td>\n",
              "      <td>Misdemeanor: Assault and Battery</td>\n",
              "      <td>Conviction — Nolo Plea</td>\n",
              "      <td>2006-11-02</td>\n",
              "      <td>True</td>\n",
              "      <td>CIUMMO, RICHARD A</td>\n",
              "      <td>PD</td>\n",
              "    </tr>\n",
              "    <tr>\n",
              "      <th>33551</th>\n",
              "      <td>01-CR-00732</td>\n",
              "      <td>People vs. DOROTHY DIANNE HARRIS</td>\n",
              "      <td>2001-05-15</td>\n",
              "      <td>Criminal/Traffic</td>\n",
              "      <td>Misdemeanor</td>\n",
              "      <td>Misdemeanor: 14601VC</td>\n",
              "      <td>Conviction — Nolo Plea</td>\n",
              "      <td>2001-11-01</td>\n",
              "      <td>False</td>\n",
              "      <td>IN PRO PER</td>\n",
              "      <td>NaN</td>\n",
              "    </tr>\n",
              "  </tbody>\n",
              "</table>\n",
              "<p>33552 rows × 11 columns</p>\n",
              "</div>"
            ],
            "text/plain": [
              "           case_id                             case_name filing_date  \\\n",
              "0        24CR34186     People vs. YESSENIA ESCOBAR ROCHA  2024-09-18   \n",
              "1        24CR34185    People vs. CESAR JUNIOR MORENO, Jr  2024-09-18   \n",
              "2        24CR34184  People vs. COURTNEY JONATHAN GARLAND  2024-09-18   \n",
              "3        24CR34183    People vs. BENJAMIN WILSON HOLCOMB  2024-09-17   \n",
              "4        24CR34182        People vs. JOSHUA JAMES BANNON  2024-09-17   \n",
              "...            ...                                   ...         ...   \n",
              "33547  02-CR-01806           People vs. LOLA BELL TURLEY  2002-05-29   \n",
              "33548  02-CR-01805        People vs. THOMAS OTTO MOSELEY  2002-05-29   \n",
              "33549  06-CR-11297                People vs. TROY TOWNER  2006-09-25   \n",
              "33550  06-CR-11342          People vs. RICH JAMES TELLER  2006-10-05   \n",
              "33551  01-CR-00732      People vs. DOROTHY DIANNE HARRIS  2001-05-15   \n",
              "\n",
              "               location    case_type                            category  \\\n",
              "0      Criminal/Traffic  Misdemeanor           Misdemeanor: Drug Offense   \n",
              "1      Criminal/Traffic  Misdemeanor                    Misdemeanor: DUI   \n",
              "2      Criminal/Traffic  Misdemeanor  Misdemeanor: Non Traffic/Ordinance   \n",
              "3      Criminal/Traffic  Misdemeanor          Misdemeanor: Traffic Other   \n",
              "4      Criminal/Traffic  Misdemeanor                Misdemeanor: 14601VC   \n",
              "...                 ...          ...                                 ...   \n",
              "33547  Criminal/Traffic  Misdemeanor                Misdemeanor: 14601VC   \n",
              "33548  Criminal/Traffic  Misdemeanor                Misdemeanor: 14601VC   \n",
              "33549  Criminal/Traffic  Misdemeanor                    Misdemeanor: DUI   \n",
              "33550  Criminal/Traffic  Misdemeanor    Misdemeanor: Assault and Battery   \n",
              "33551  Criminal/Traffic  Misdemeanor                Misdemeanor: 14601VC   \n",
              "\n",
              "                       status update_date  indigent_defense  \\\n",
              "0                        Open         NaT             False   \n",
              "1                        Open         NaT             False   \n",
              "2                        Open         NaT             False   \n",
              "3                        Open         NaT             False   \n",
              "4                        Open         NaT             False   \n",
              "...                       ...         ...               ...   \n",
              "33547  Conviction — Nolo Plea  2005-03-09             False   \n",
              "33548               Dismissed  2002-08-28             False   \n",
              "33549               Dismissed  2006-10-16             False   \n",
              "33550  Conviction — Nolo Plea  2006-11-02              True   \n",
              "33551  Conviction — Nolo Plea  2001-11-01             False   \n",
              "\n",
              "          represented_by pd_status  \n",
              "0                    NaN       NaN  \n",
              "1                    NaN       NaN  \n",
              "2                    NaN       NaN  \n",
              "3                    NaN       NaN  \n",
              "4                    NaN       NaN  \n",
              "...                  ...       ...  \n",
              "33547                NaN       NaN  \n",
              "33548                NaN       NaN  \n",
              "33549                NaN       NaN  \n",
              "33550  CIUMMO, RICHARD A        PD  \n",
              "33551         IN PRO PER       NaN  \n",
              "\n",
              "[33552 rows x 11 columns]"
            ]
          },
          "execution_count": 47,
          "metadata": {},
          "output_type": "execute_result"
        }
      ],
      "source": [
        "pd_sort(cases)"
      ]
    },
    {
      "cell_type": "code",
      "execution_count": 22,
      "metadata": {
        "colab": {
          "base_uri": "https://localhost:8080/",
          "height": 648
        },
        "id": "VMLyt644zcOd",
        "outputId": "52b15051-8903-464d-c6a3-550cd26b38cd"
      },
      "outputs": [
        {
          "data": {
            "application/vnd.microsoft.datawrangler.viewer.v0+json": {
              "columns": [
                {
                  "name": "represented_by",
                  "rawType": "object",
                  "type": "string"
                },
                {
                  "name": "count",
                  "rawType": "int64",
                  "type": "integer"
                }
              ],
              "conversionMethod": "pd.DataFrame",
              "ref": "f64cd4dd-a51a-4705-81c5-d416041f5636",
              "rows": [
                [
                  "FITZGERALD ALVAREZ & CIUMMO",
                  "2017"
                ],
                [
                  "IN PRO PER",
                  "1412"
                ],
                [
                  "CIUMMO, RICHARD A",
                  "251"
                ],
                [
                  "ASBELL, APRIL; FLEMING, LEIGH",
                  "227"
                ],
                [
                  "SINGER, DAVID K",
                  "126"
                ],
                [
                  "LINDEMANN, CALLIE",
                  "99"
                ],
                [
                  "SEATON, JEFFREY",
                  "98"
                ],
                [
                  "SCHELL, ROBERT CHARLES",
                  "66"
                ],
                [
                  "BARKER, JOHN A",
                  "58"
                ],
                [
                  "PUBLIC DEFENDER",
                  "58"
                ],
                [
                  "WEINER, DAIN",
                  "49"
                ],
                [
                  "FOLEY, KENNETH M",
                  "48"
                ],
                [
                  "ASBELL, APRIL",
                  "41"
                ],
                [
                  "CRAMER, DAVID JEFFREY",
                  "30"
                ],
                [
                  "TIEMANN, ROLAND X",
                  "29"
                ],
                [
                  "CLARK, JAMES",
                  "23"
                ],
                [
                  "OLSEN, DANIEL",
                  "23"
                ],
                [
                  "SMITH, PETER HANNON",
                  "23"
                ],
                [
                  "BALES, BETH",
                  "22"
                ],
                [
                  "SMITH, PETER H",
                  "21"
                ],
                [
                  "SAFRANSKI, CLIFFORD R",
                  "21"
                ],
                [
                  "JONES, TODD E",
                  "17"
                ],
                [
                  "SALAZAR, ANTHONY T",
                  "16"
                ],
                [
                  "FLEMING, LEIGH",
                  "16"
                ],
                [
                  "FLEMING, LEIGH SCOTT, APRIL",
                  "11"
                ],
                [
                  "SCOTT, APRIL; FLEMING, LEIGH",
                  "11"
                ],
                [
                  "CILENTI, STEVEN",
                  "10"
                ],
                [
                  "CHAVEZOCHOA, BRIAN R",
                  "9"
                ],
                [
                  "WEINER, ADAM",
                  "9"
                ],
                [
                  "MORRIS, KEITH",
                  "7"
                ],
                [
                  "PETERSON, NATHAN R.",
                  "7"
                ],
                [
                  "GOMES, DALE RYAN",
                  "7"
                ],
                [
                  "DARROHN, ROBERT B",
                  "6"
                ],
                [
                  "CROWELL, HENDRICK S",
                  "6"
                ],
                [
                  "Griffin, Darrell G Jr",
                  "6"
                ],
                [
                  "CIUMMO, RICHARD A; BARKER, JOHN A",
                  "6"
                ],
                [
                  "BIRD, MARY ANN F",
                  "5"
                ],
                [
                  "FITZGERALD ALVAREZ & CIUMMO CIUMMO, RICHARD A",
                  "5"
                ],
                [
                  "SCOTT, APRIL",
                  "5"
                ],
                [
                  "GRUNDMAN, ANDREW",
                  "5"
                ],
                [
                  "KHAN, SAVEEL",
                  "5"
                ],
                [
                  "ENNIS, SCOTT B",
                  "5"
                ],
                [
                  "HOLBUS, JOHN W",
                  "4"
                ],
                [
                  "REICHEL, MARK",
                  "4"
                ],
                [
                  "LALLY, J ROBERT",
                  "4"
                ],
                [
                  "ALVAREZ, RICHARD OSCAR Jr",
                  "4"
                ],
                [
                  "HALLUM, KENNETH M",
                  "4"
                ],
                [
                  "SHROUT, RANDALL",
                  "4"
                ],
                [
                  "DUDEK, RICHARD T",
                  "4"
                ],
                [
                  "CHILIMIDOS, DARYL I",
                  "3"
                ]
              ],
              "shape": {
                "columns": 1,
                "rows": 207
              }
            },
            "text/html": [
              "<div>\n",
              "<style scoped>\n",
              "    .dataframe tbody tr th:only-of-type {\n",
              "        vertical-align: middle;\n",
              "    }\n",
              "\n",
              "    .dataframe tbody tr th {\n",
              "        vertical-align: top;\n",
              "    }\n",
              "\n",
              "    .dataframe thead th {\n",
              "        text-align: right;\n",
              "    }\n",
              "</style>\n",
              "<table border=\"1\" class=\"dataframe\">\n",
              "  <thead>\n",
              "    <tr style=\"text-align: right;\">\n",
              "      <th></th>\n",
              "      <th>count</th>\n",
              "    </tr>\n",
              "    <tr>\n",
              "      <th>represented_by</th>\n",
              "      <th></th>\n",
              "    </tr>\n",
              "  </thead>\n",
              "  <tbody>\n",
              "    <tr>\n",
              "      <th>FITZGERALD ALVAREZ &amp; CIUMMO</th>\n",
              "      <td>2017</td>\n",
              "    </tr>\n",
              "    <tr>\n",
              "      <th>IN PRO PER</th>\n",
              "      <td>1412</td>\n",
              "    </tr>\n",
              "    <tr>\n",
              "      <th>CIUMMO, RICHARD A</th>\n",
              "      <td>251</td>\n",
              "    </tr>\n",
              "    <tr>\n",
              "      <th>ASBELL, APRIL; FLEMING, LEIGH</th>\n",
              "      <td>227</td>\n",
              "    </tr>\n",
              "    <tr>\n",
              "      <th>SINGER, DAVID K</th>\n",
              "      <td>126</td>\n",
              "    </tr>\n",
              "    <tr>\n",
              "      <th>...</th>\n",
              "      <td>...</td>\n",
              "    </tr>\n",
              "    <tr>\n",
              "      <th>CIOCCA, PATRICK MICHAEL</th>\n",
              "      <td>1</td>\n",
              "    </tr>\n",
              "    <tr>\n",
              "      <th>BENAVIDEZ, ARTURO</th>\n",
              "      <td>1</td>\n",
              "    </tr>\n",
              "    <tr>\n",
              "      <th>PORTANOVA</th>\n",
              "      <td>1</td>\n",
              "    </tr>\n",
              "    <tr>\n",
              "      <th>PEABODY, RYAN</th>\n",
              "      <td>1</td>\n",
              "    </tr>\n",
              "    <tr>\n",
              "      <th>CILENTI, STEVEN PUBLIC DEFENDER</th>\n",
              "      <td>1</td>\n",
              "    </tr>\n",
              "  </tbody>\n",
              "</table>\n",
              "<p>207 rows × 1 columns</p>\n",
              "</div>"
            ],
            "text/plain": [
              "                                 count\n",
              "represented_by                        \n",
              "FITZGERALD ALVAREZ & CIUMMO       2017\n",
              "IN PRO PER                        1412\n",
              "CIUMMO, RICHARD A                  251\n",
              "ASBELL, APRIL; FLEMING, LEIGH      227\n",
              "SINGER, DAVID K                    126\n",
              "...                                ...\n",
              "CIOCCA, PATRICK MICHAEL              1\n",
              "BENAVIDEZ, ARTURO                    1\n",
              "PORTANOVA                            1\n",
              "PEABODY, RYAN                        1\n",
              "CILENTI, STEVEN PUBLIC DEFENDER      1\n",
              "\n",
              "[207 rows x 1 columns]"
            ]
          },
          "execution_count": 22,
          "metadata": {},
          "output_type": "execute_result"
        }
      ],
      "source": [
        "pd.DataFrame(cases['represented_by'].value_counts())"
      ]
    },
    {
      "cell_type": "markdown",
      "metadata": {
        "id": "prPR0z7nl1lG"
      },
      "source": [
        "# Codebook"
      ]
    },
    {
      "cell_type": "markdown",
      "metadata": {
        "id": "_sNLjVOWlQ3U"
      },
      "source": [
        "## Cases Table\n",
        "| Column Name          | Description                                               |\n",
        "|----------------------|-----------------------------------------------------------|\n",
        "| case_id              | Unique identifier for the court case.                     |\n",
        "| case_name            | Title of the case, including parties involved.            |\n",
        "| filing_date          | Date the case was filed.                                  |\n",
        "| location             | Court location or division handling the case.             |\n",
        "| case_type            | Broad classification of the case (e.g., criminal, traffic). |\n",
        "| category             | Specific category or description of the case type.        |\n",
        "| status               | Current status of the case (e.g., Open, Closed).          |\n",
        "| update_date          | Date of the last update to the case record.               |\n",
        "| indigent_defense     | Indicates if a public defender has been assigned (True/False). |\n",
        "| represented_by       | Name or entity representing the defendant.                |\n",
        "\n",
        "## Parties Table\n",
        "| Column Name          | Description                                               |\n",
        "|----------------------|-----------------------------------------------------------|\n",
        "| case_id              | Unique identifier for the court case.                     |\n",
        "| type                 | Role of the individual in the case (e.g., Defendant).     |\n",
        "| name                 | Name of the individual involved in the case.              |\n",
        "\n",
        "## Events Table\n",
        "| Column Name          | Description                                               |\n",
        "|----------------------|-----------------------------------------------------------|\n",
        "| case_id              | Unique identifier for the court case.                     |\n",
        "| location             | Department or courtroom where the event occurred.         |\n",
        "| date                 | Date of the event.                                        |\n",
        "| type                 | Description of the event (e.g., Arraignment, Hearing).    |\n",
        "| official             | Last name of the judge presiding over the event.          |\n",
        "\n",
        "## Charges Table\n",
        "| Column Name          | Description                                               |\n",
        "|----------------------|-----------------------------------------------------------|\n",
        "| case_id              | Unique identifier for the court case.                     |\n",
        "| charge               | Description of the charge filed in the case.              |\n",
        "| disposition          | Final disposition or outcome of the charge.               |\n",
        "| disp_date            | Date the disposition was issued.                          |\n",
        "\n",
        "## Documents Table\n",
        "| Column Name          | Description                                               |\n",
        "|----------------------|-----------------------------------------------------------|\n",
        "| case_id              | Unique identifier for the court case.                     |\n",
        "| filed_date           | Date the document was filed in the case.                  |\n",
        "| description          | Description of the document filed.                        |\n",
        "| filed_by             | Party responsible for filing the document (e.g., Clerk, DA). |\n",
        "| tracking_date        | Date for tracking the document's status.                  |\n",
        "\n",
        "## Probation Table\n",
        "| Column Name          | Description                                               |\n",
        "|----------------------|-----------------------------------------------------------|\n",
        "| case_id              | Unique identifier for the court case.                     |\n",
        "| probation_conditions | Conditions assigned for the probation period.             |\n",
        "| length_months        | Length of the probation period in months.                 |\n",
        "| date_granted         | Date the probation was granted.                           |\n",
        "| date_imposed         | Date the probation was imposed.                           |\n",
        "\n",
        "## Bail Table\n",
        "| Column Name          | Description                                               |\n",
        "|----------------------|-----------------------------------------------------------|\n",
        "| case_id              | Unique identifier for the court case.                     |\n",
        "| set_date             | Date bail was set.                                        |\n",
        "| posted_date          | Date bail was posted, if applicable.                      |\n",
        "| amount               | Amount of bail set for the case.                          |\n",
        "| posted               | Indicates if the bail was posted (True/False).            |"
      ]
    },
    {
      "cell_type": "markdown",
      "metadata": {
        "id": "HTFyflikLe7G"
      },
      "source": [
        "# Analysis"
      ]
    },
    {
      "cell_type": "markdown",
      "metadata": {
        "id": "jflPDeIRmhPk"
      },
      "source": [
        "## Completeness"
      ]
    },
    {
      "cell_type": "code",
      "execution_count": 23,
      "metadata": {
        "colab": {
          "base_uri": "https://localhost:8080/"
        },
        "id": "k4fc763WmhEH",
        "outputId": "99204977-f454-48ad-915d-be2aecf0b385"
      },
      "outputs": [
        {
          "name": "stdout",
          "output_type": "stream",
          "text": [
            "Is 'case_id' unique in cases? True\n",
            "Is 'case_id' unique in parties? False\n",
            "Is 'case_id' unique in events? False\n",
            "Is 'case_id' unique in charges? False\n",
            "Is 'case_id' unique in documents? False\n",
            "Is 'case_id' unique in probation? False\n",
            "Is 'case_id' unique in bail? True\n"
          ]
        }
      ],
      "source": [
        "# Checking uniqueness of case_id in each table\n",
        "tables = {'cases': cases, 'parties': parties, 'events': events,\n",
        "          'charges': charges, 'documents': documents,\n",
        "          'probation': probation, 'bail': bail}\n",
        "\n",
        "for table_name, df in tables.items():\n",
        "    is_unique = df['case_id'].is_unique\n",
        "    print(f\"Is 'case_id' unique in {table_name}? {is_unique}\")"
      ]
    },
    {
      "cell_type": "code",
      "execution_count": 24,
      "metadata": {
        "colab": {
          "base_uri": "https://localhost:8080/"
        },
        "id": "i6hFTr2qmp3-",
        "outputId": "991c8d10-f9de-4fda-a7b6-21191c3a6d21"
      },
      "outputs": [
        {
          "name": "stdout",
          "output_type": "stream",
          "text": [
            "Missing case_ids in parties not found in cases table: set()\n",
            "Missing case_ids in events not found in cases table: set()\n",
            "Missing case_ids in charges not found in cases table: set()\n",
            "Missing case_ids in documents not found in cases table: set()\n",
            "Missing case_ids in probation not found in cases table: set()\n",
            "Missing case_ids in bail not found in cases table: set()\n"
          ]
        }
      ],
      "source": [
        "# Check case_id consistency across tables\n",
        "main_cases = set(cases['case_id'])\n",
        "for table_name, df in tables.items():\n",
        "    if table_name != 'cases':\n",
        "        other_cases = set(df['case_id'])\n",
        "        missing = other_cases - main_cases\n",
        "        print(f\"Missing case_ids in {table_name} not found in cases table: {missing}\")"
      ]
    },
    {
      "cell_type": "code",
      "execution_count": 25,
      "metadata": {
        "colab": {
          "base_uri": "https://localhost:8080/"
        },
        "id": "UGNuPnsXmsY6",
        "outputId": "36a324ff-be04-4c39-b694-cbb0b7ef36de"
      },
      "outputs": [
        {
          "name": "stdout",
          "output_type": "stream",
          "text": [
            "\n",
            "Missing values in cases table:\n",
            "case_id                 0\n",
            "case_name               0\n",
            "filing_date            17\n",
            "location                0\n",
            "case_type               0\n",
            "category                0\n",
            "status                 59\n",
            "update_date          3845\n",
            "indigent_defense        0\n",
            "represented_by      28412\n",
            "dtype: int64\n",
            "\n",
            "Missing values in parties table:\n",
            "case_id    0\n",
            "type       0\n",
            "name       0\n",
            "dtype: int64\n",
            "\n",
            "Missing values in events table:\n",
            "case_id         0\n",
            "location     5501\n",
            "date        32563\n",
            "type            2\n",
            "result          0\n",
            "official     1268\n",
            "dtype: int64\n",
            "\n",
            "Missing values in charges table:\n",
            "case_id            0\n",
            "charge             0\n",
            "disposition    59849\n",
            "disp_date      61501\n",
            "dtype: int64\n",
            "\n",
            "Missing values in documents table:\n",
            "case_id               0\n",
            "filed_date        33373\n",
            "description           0\n",
            "filed_by         530074\n",
            "tracking_date    551667\n",
            "dtype: int64\n",
            "\n",
            "Missing values in probation table:\n",
            "case_id                    0\n",
            "probation_conditions       0\n",
            "length_months           9356\n",
            "date_granted            9356\n",
            "date_imposed            9356\n",
            "dtype: int64\n",
            "\n",
            "Missing values in bail table:\n",
            "case_id            0\n",
            "set_date           8\n",
            "posted_date    17567\n",
            "amount             0\n",
            "posted             0\n",
            "dtype: int64\n"
          ]
        }
      ],
      "source": [
        "# Check for missing values in each table\n",
        "for table_name, df in tables.items():\n",
        "    print(f\"\\nMissing values in {table_name} table:\")\n",
        "    print(df.isnull().sum())"
      ]
    }
  ],
  "metadata": {
    "colab": {
      "collapsed_sections": [
        "FnGTRuS1mSUD",
        "_UkGbrUw0or5",
        "LYNiIEAbOkgq",
        "1a_lhKqFuRnx",
        "UzHerrLLT1KP",
        "vgEwS1l51osF",
        "VIo58md-HoPf",
        "vZBqTGkaW-PW",
        "iSgIRezpbCRB",
        "7H-qO83skwyD",
        "mmKPkrmmEgGZ",
        "RxzXsYhoKB3W",
        "mv_OC-B2YvJy",
        "prPR0z7nl1lG",
        "jflPDeIRmhPk"
      ],
      "provenance": []
    },
    "kernelspec": {
      "display_name": "base",
      "language": "python",
      "name": "python3"
    },
    "language_info": {
      "codemirror_mode": {
        "name": "ipython",
        "version": 3
      },
      "file_extension": ".py",
      "mimetype": "text/x-python",
      "name": "python",
      "nbconvert_exporter": "python",
      "pygments_lexer": "ipython3",
      "version": "3.12.4"
    }
  },
  "nbformat": 4,
  "nbformat_minor": 0
}
